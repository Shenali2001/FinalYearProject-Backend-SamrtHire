{
 "cells": [
  {
   "cell_type": "code",
   "id": "initial_id",
   "metadata": {
    "collapsed": true,
    "ExecuteTime": {
     "end_time": "2025-07-26T04:41:49.431994Z",
     "start_time": "2025-07-26T04:41:49.427946Z"
    }
   },
   "source": [
    "import json\n",
    "data = []\n",
    "try:\n",
    "    with open('converted_dataset_clean.json', 'r') as file:\n",
    "        data = json.load(file)\n",
    "    print(f\"Total entries parsed: {len(data)}\")\n",
    "    print(\"First 5 entries:\", data[:5])\n",
    "except json.JSONDecodeError as e:\n",
    "    print(f\"Error parsing file: {e}\")"
   ],
   "outputs": [
    {
     "name": "stdout",
     "output_type": "stream",
     "text": [
      "Total entries parsed: 2541\n",
      "First 5 entries: [{'input': 'CV section: Financial Accountant specializing in financial planning, reporting, and analysis within the Department of Defense.', 'output': 'Please give a brief introduction about yourself based on your CV.'}, {'input': 'CV section: Associate in Accounting, Northern Maine Community College, 1994, GPA: 3.41; Attended Hudson College, major in Accounting, 78 semester hours toward Bachelor’s degree; Professional Military Comptroller School, 6 weeks, 1998; Certified Defense Financial Manager, CDFM, May 2005.', 'output': 'What educational qualifications do you have in accounting?'}, {'input': 'Question: What educational qualifications do you have in accounting?\\nAnswer: I have an Associate in Accounting from Northern Maine Community College with a GPA of 3.41, 78 semester hours toward a Bachelor’s in Accounting from Hudson College, and a Certified Defense Financial Manager certification from 2005.', 'label': 'correct'}, {'input': 'Question: What educational qualifications do you have in accounting?\\nAnswer: I have a Master’s in Accounting from Hudson College and a CPA certification.', 'label': 'incorrect'}, {'input': 'CV section: Associate in Accounting, Northern Maine Community College, 1994, GPA: 3.41; Attended Hudson College, major in Accounting, 78 semester hours toward Bachelor’s degree; Professional Military Comptroller School, 6 weeks, 1998; Certified Defense Financial Manager, CDFM, May 2005.', 'output': 'How did your training at the Professional Military Comptroller School enhance your skills as a Financial Accountant?'}]\n"
     ]
    }
   ],
   "execution_count": 4
  },
  {
   "metadata": {
    "ExecuteTime": {
     "end_time": "2025-07-26T04:41:53.248931Z",
     "start_time": "2025-07-26T04:41:51.986869Z"
    }
   },
   "cell_type": "code",
   "source": "!pip3 install scikit-learn\n",
   "id": "8a2805ad5c525f40",
   "outputs": [
    {
     "name": "stdout",
     "output_type": "stream",
     "text": [
      "Requirement already satisfied: scikit-learn in /Users/dasunsathsara/VVH/FinalYearProject-SmartHire-Backend/.venv/lib/python3.10/site-packages (1.7.1)\r\n",
      "Requirement already satisfied: numpy>=1.22.0 in /Users/dasunsathsara/VVH/FinalYearProject-SmartHire-Backend/.venv/lib/python3.10/site-packages (from scikit-learn) (2.2.6)\r\n",
      "Requirement already satisfied: scipy>=1.8.0 in /Users/dasunsathsara/VVH/FinalYearProject-SmartHire-Backend/.venv/lib/python3.10/site-packages (from scikit-learn) (1.15.3)\r\n",
      "Requirement already satisfied: joblib>=1.2.0 in /Users/dasunsathsara/VVH/FinalYearProject-SmartHire-Backend/.venv/lib/python3.10/site-packages (from scikit-learn) (1.5.1)\r\n",
      "Requirement already satisfied: threadpoolctl>=3.1.0 in /Users/dasunsathsara/VVH/FinalYearProject-SmartHire-Backend/.venv/lib/python3.10/site-packages (from scikit-learn) (3.6.0)\r\n",
      "\u001B[33mWARNING: There was an error checking the latest version of pip.\u001B[0m\u001B[33m\r\n",
      "\u001B[0m"
     ]
    }
   ],
   "execution_count": 5
  },
  {
   "metadata": {
    "ExecuteTime": {
     "end_time": "2025-07-26T04:41:54.150414Z",
     "start_time": "2025-07-26T04:41:54.145177Z"
    }
   },
   "cell_type": "code",
   "source": [
    "from sklearn.model_selection import train_test_split\n",
    "classification_data = []\n",
    "for entry in data:\n",
    "    if isinstance(entry, dict) and \"input\" in entry and \"label\" in entry:\n",
    "        if \"Question:\" in entry[\"input\"] and \"Answer:\" in entry[\"input\"]:\n",
    "            input_text = entry[\"input\"]\n",
    "            label = 1 if entry[\"label\"] == \"correct\" else 0\n",
    "            classification_data.append({\"text\": input_text, \"label\": label})\n",
    "print(f\"Classification entries found: {len(classification_data)}\")\n",
    "if len(classification_data) == 0:\n",
    "    print(\"No classification entries found. Printing sample entries for debugging:\")\n",
    "    print(data[:10])\n",
    "    raise ValueError(\"No valid classification entries found. Check dataset structure.\")\n",
    "train_data, val_data = train_test_split(classification_data, test_size=0.2, random_state=42)\n",
    "print(f\"Training entries: {len(train_data)}, Validation entries: {len(val_data)}\")"
   ],
   "id": "9c4f38d4e7583dfa",
   "outputs": [
    {
     "name": "stdout",
     "output_type": "stream",
     "text": [
      "Classification entries found: 1680\n",
      "Training entries: 1344, Validation entries: 336\n"
     ]
    }
   ],
   "execution_count": 6
  },
  {
   "metadata": {
    "ExecuteTime": {
     "end_time": "2025-07-26T04:41:56.951161Z",
     "start_time": "2025-07-26T04:41:55.721362Z"
    }
   },
   "cell_type": "code",
   "source": "!pip3 install transformers datasets",
   "id": "b419be88efb509db",
   "outputs": [
    {
     "name": "stdout",
     "output_type": "stream",
     "text": [
      "Requirement already satisfied: transformers in /Users/dasunsathsara/VVH/FinalYearProject-SmartHire-Backend/.venv/lib/python3.10/site-packages (4.53.3)\r\n",
      "Requirement already satisfied: datasets in /Users/dasunsathsara/VVH/FinalYearProject-SmartHire-Backend/.venv/lib/python3.10/site-packages (4.0.0)\r\n",
      "Requirement already satisfied: filelock in /Users/dasunsathsara/VVH/FinalYearProject-SmartHire-Backend/.venv/lib/python3.10/site-packages (from transformers) (3.18.0)\r\n",
      "Requirement already satisfied: huggingface-hub<1.0,>=0.30.0 in /Users/dasunsathsara/VVH/FinalYearProject-SmartHire-Backend/.venv/lib/python3.10/site-packages (from transformers) (0.33.4)\r\n",
      "Requirement already satisfied: numpy>=1.17 in /Users/dasunsathsara/VVH/FinalYearProject-SmartHire-Backend/.venv/lib/python3.10/site-packages (from transformers) (2.2.6)\r\n",
      "Requirement already satisfied: packaging>=20.0 in /Users/dasunsathsara/VVH/FinalYearProject-SmartHire-Backend/.venv/lib/python3.10/site-packages (from transformers) (25.0)\r\n",
      "Requirement already satisfied: pyyaml>=5.1 in /Users/dasunsathsara/VVH/FinalYearProject-SmartHire-Backend/.venv/lib/python3.10/site-packages (from transformers) (6.0.2)\r\n",
      "Requirement already satisfied: regex!=2019.12.17 in /Users/dasunsathsara/VVH/FinalYearProject-SmartHire-Backend/.venv/lib/python3.10/site-packages (from transformers) (2024.11.6)\r\n",
      "Requirement already satisfied: requests in /Users/dasunsathsara/VVH/FinalYearProject-SmartHire-Backend/.venv/lib/python3.10/site-packages (from transformers) (2.32.4)\r\n",
      "Requirement already satisfied: tokenizers<0.22,>=0.21 in /Users/dasunsathsara/VVH/FinalYearProject-SmartHire-Backend/.venv/lib/python3.10/site-packages (from transformers) (0.21.2)\r\n",
      "Requirement already satisfied: safetensors>=0.4.3 in /Users/dasunsathsara/VVH/FinalYearProject-SmartHire-Backend/.venv/lib/python3.10/site-packages (from transformers) (0.5.3)\r\n",
      "Requirement already satisfied: tqdm>=4.27 in /Users/dasunsathsara/VVH/FinalYearProject-SmartHire-Backend/.venv/lib/python3.10/site-packages (from transformers) (4.67.1)\r\n",
      "Requirement already satisfied: pyarrow>=15.0.0 in /Users/dasunsathsara/VVH/FinalYearProject-SmartHire-Backend/.venv/lib/python3.10/site-packages (from datasets) (21.0.0)\r\n",
      "Requirement already satisfied: dill<0.3.9,>=0.3.0 in /Users/dasunsathsara/VVH/FinalYearProject-SmartHire-Backend/.venv/lib/python3.10/site-packages (from datasets) (0.3.8)\r\n",
      "Requirement already satisfied: pandas in /Users/dasunsathsara/VVH/FinalYearProject-SmartHire-Backend/.venv/lib/python3.10/site-packages (from datasets) (2.3.1)\r\n",
      "Requirement already satisfied: xxhash in /Users/dasunsathsara/VVH/FinalYearProject-SmartHire-Backend/.venv/lib/python3.10/site-packages (from datasets) (3.5.0)\r\n",
      "Requirement already satisfied: multiprocess<0.70.17 in /Users/dasunsathsara/VVH/FinalYearProject-SmartHire-Backend/.venv/lib/python3.10/site-packages (from datasets) (0.70.16)\r\n",
      "Requirement already satisfied: fsspec[http]<=2025.3.0,>=2023.1.0 in /Users/dasunsathsara/VVH/FinalYearProject-SmartHire-Backend/.venv/lib/python3.10/site-packages (from datasets) (2025.3.0)\r\n",
      "Requirement already satisfied: aiohttp!=4.0.0a0,!=4.0.0a1 in /Users/dasunsathsara/VVH/FinalYearProject-SmartHire-Backend/.venv/lib/python3.10/site-packages (from fsspec[http]<=2025.3.0,>=2023.1.0->datasets) (3.12.14)\r\n",
      "Requirement already satisfied: typing-extensions>=3.7.4.3 in /Users/dasunsathsara/VVH/FinalYearProject-SmartHire-Backend/.venv/lib/python3.10/site-packages (from huggingface-hub<1.0,>=0.30.0->transformers) (4.14.0)\r\n",
      "Requirement already satisfied: hf-xet<2.0.0,>=1.1.2 in /Users/dasunsathsara/VVH/FinalYearProject-SmartHire-Backend/.venv/lib/python3.10/site-packages (from huggingface-hub<1.0,>=0.30.0->transformers) (1.1.5)\r\n",
      "Requirement already satisfied: charset_normalizer<4,>=2 in /Users/dasunsathsara/VVH/FinalYearProject-SmartHire-Backend/.venv/lib/python3.10/site-packages (from requests->transformers) (3.4.2)\r\n",
      "Requirement already satisfied: idna<4,>=2.5 in /Users/dasunsathsara/VVH/FinalYearProject-SmartHire-Backend/.venv/lib/python3.10/site-packages (from requests->transformers) (3.10)\r\n",
      "Requirement already satisfied: urllib3<3,>=1.21.1 in /Users/dasunsathsara/VVH/FinalYearProject-SmartHire-Backend/.venv/lib/python3.10/site-packages (from requests->transformers) (2.5.0)\r\n",
      "Requirement already satisfied: certifi>=2017.4.17 in /Users/dasunsathsara/VVH/FinalYearProject-SmartHire-Backend/.venv/lib/python3.10/site-packages (from requests->transformers) (2025.7.14)\r\n",
      "Requirement already satisfied: python-dateutil>=2.8.2 in /Users/dasunsathsara/VVH/FinalYearProject-SmartHire-Backend/.venv/lib/python3.10/site-packages (from pandas->datasets) (2.9.0.post0)\r\n",
      "Requirement already satisfied: pytz>=2020.1 in /Users/dasunsathsara/VVH/FinalYearProject-SmartHire-Backend/.venv/lib/python3.10/site-packages (from pandas->datasets) (2025.2)\r\n",
      "Requirement already satisfied: tzdata>=2022.7 in /Users/dasunsathsara/VVH/FinalYearProject-SmartHire-Backend/.venv/lib/python3.10/site-packages (from pandas->datasets) (2025.2)\r\n",
      "Requirement already satisfied: aiohappyeyeballs>=2.5.0 in /Users/dasunsathsara/VVH/FinalYearProject-SmartHire-Backend/.venv/lib/python3.10/site-packages (from aiohttp!=4.0.0a0,!=4.0.0a1->fsspec[http]<=2025.3.0,>=2023.1.0->datasets) (2.6.1)\r\n",
      "Requirement already satisfied: aiosignal>=1.4.0 in /Users/dasunsathsara/VVH/FinalYearProject-SmartHire-Backend/.venv/lib/python3.10/site-packages (from aiohttp!=4.0.0a0,!=4.0.0a1->fsspec[http]<=2025.3.0,>=2023.1.0->datasets) (1.4.0)\r\n",
      "Requirement already satisfied: async-timeout<6.0,>=4.0 in /Users/dasunsathsara/VVH/FinalYearProject-SmartHire-Backend/.venv/lib/python3.10/site-packages (from aiohttp!=4.0.0a0,!=4.0.0a1->fsspec[http]<=2025.3.0,>=2023.1.0->datasets) (5.0.1)\r\n",
      "Requirement already satisfied: attrs>=17.3.0 in /Users/dasunsathsara/VVH/FinalYearProject-SmartHire-Backend/.venv/lib/python3.10/site-packages (from aiohttp!=4.0.0a0,!=4.0.0a1->fsspec[http]<=2025.3.0,>=2023.1.0->datasets) (25.3.0)\r\n",
      "Requirement already satisfied: frozenlist>=1.1.1 in /Users/dasunsathsara/VVH/FinalYearProject-SmartHire-Backend/.venv/lib/python3.10/site-packages (from aiohttp!=4.0.0a0,!=4.0.0a1->fsspec[http]<=2025.3.0,>=2023.1.0->datasets) (1.7.0)\r\n",
      "Requirement already satisfied: multidict<7.0,>=4.5 in /Users/dasunsathsara/VVH/FinalYearProject-SmartHire-Backend/.venv/lib/python3.10/site-packages (from aiohttp!=4.0.0a0,!=4.0.0a1->fsspec[http]<=2025.3.0,>=2023.1.0->datasets) (6.6.3)\r\n",
      "Requirement already satisfied: propcache>=0.2.0 in /Users/dasunsathsara/VVH/FinalYearProject-SmartHire-Backend/.venv/lib/python3.10/site-packages (from aiohttp!=4.0.0a0,!=4.0.0a1->fsspec[http]<=2025.3.0,>=2023.1.0->datasets) (0.3.2)\r\n",
      "Requirement already satisfied: yarl<2.0,>=1.17.0 in /Users/dasunsathsara/VVH/FinalYearProject-SmartHire-Backend/.venv/lib/python3.10/site-packages (from aiohttp!=4.0.0a0,!=4.0.0a1->fsspec[http]<=2025.3.0,>=2023.1.0->datasets) (1.20.1)\r\n",
      "Requirement already satisfied: six>=1.5 in /Users/dasunsathsara/VVH/FinalYearProject-SmartHire-Backend/.venv/lib/python3.10/site-packages (from python-dateutil>=2.8.2->pandas->datasets) (1.17.0)\r\n",
      "\u001B[33mWARNING: There was an error checking the latest version of pip.\u001B[0m\u001B[33m\r\n",
      "\u001B[0m"
     ]
    }
   ],
   "execution_count": 7
  },
  {
   "metadata": {
    "ExecuteTime": {
     "end_time": "2025-07-26T04:41:57.928698Z",
     "start_time": "2025-07-26T04:41:57.926277Z"
    }
   },
   "cell_type": "code",
   "source": [
    "import transformers\n",
    "import datasets\n",
    "print(\"Libraries installed successfully\")"
   ],
   "id": "8ecdf98ab21adeaa",
   "outputs": [
    {
     "name": "stdout",
     "output_type": "stream",
     "text": [
      "Libraries installed successfully\n"
     ]
    }
   ],
   "execution_count": 8
  },
  {
   "metadata": {
    "ExecuteTime": {
     "end_time": "2025-07-26T04:42:02.654852Z",
     "start_time": "2025-07-26T04:42:00.207635Z"
    }
   },
   "cell_type": "code",
   "source": [
    "from transformers import BertTokenizer\n",
    "from datasets import Dataset\n",
    "tokenizer = BertTokenizer.from_pretrained('bert-base-uncased')\n",
    "def tokenize_function(examples):\n",
    "    return tokenizer(examples['text'], padding=\"max_length\", truncation=True, max_length=512)\n",
    "train_dataset = Dataset.from_list(train_data)\n",
    "val_dataset = Dataset.from_list(val_data)\n",
    "tokenized_train = train_dataset.map(tokenize_function, batched=True)\n",
    "tokenized_val = val_dataset.map(tokenize_function, batched=True)"
   ],
   "id": "3016489babd6de0f",
   "outputs": [
    {
     "data": {
      "text/plain": [
       "Map:   0%|          | 0/1344 [00:00<?, ? examples/s]"
      ],
      "application/vnd.jupyter.widget-view+json": {
       "version_major": 2,
       "version_minor": 0,
       "model_id": "4be17315e4494d0a874b7b5f4f010371"
      }
     },
     "metadata": {},
     "output_type": "display_data"
    },
    {
     "data": {
      "text/plain": [
       "Map:   0%|          | 0/336 [00:00<?, ? examples/s]"
      ],
      "application/vnd.jupyter.widget-view+json": {
       "version_major": 2,
       "version_minor": 0,
       "model_id": "cb36f88e1e4241e9958fb59ea2558995"
      }
     },
     "metadata": {},
     "output_type": "display_data"
    }
   ],
   "execution_count": 9
  },
  {
   "metadata": {
    "ExecuteTime": {
     "end_time": "2025-07-26T04:42:04.312203Z",
     "start_time": "2025-07-26T04:42:04.309499Z"
    }
   },
   "cell_type": "code",
   "source": [
    "print(f\"Training dataset size: {len(train_dataset)}\")\n",
    "print(f\"Validation dataset size: {len(val_dataset)}\")"
   ],
   "id": "e7ee159504b78be0",
   "outputs": [
    {
     "name": "stdout",
     "output_type": "stream",
     "text": [
      "Training dataset size: 1344\n",
      "Validation dataset size: 336\n"
     ]
    }
   ],
   "execution_count": 10
  },
  {
   "metadata": {
    "ExecuteTime": {
     "end_time": "2025-07-26T04:42:06.327787Z",
     "start_time": "2025-07-26T04:42:06.324410Z"
    }
   },
   "cell_type": "code",
   "source": [
    "with open('converted_dataset_clean.json', 'r') as file:\n",
    "    lines = file.readlines()\n",
    "print(\"First 10 lines of the file:\")\n",
    "for i, line in enumerate(lines[:10], 1):\n",
    "    print(f\"Line {i}: {line.strip()[:100]}...\")\n",
    "print(f\"Total lines in file: {len(lines)}\")"
   ],
   "id": "2e05dfaa6eff9ad",
   "outputs": [
    {
     "name": "stdout",
     "output_type": "stream",
     "text": [
      "First 10 lines of the file:\n",
      "Line 1: [...\n",
      "Line 2: {...\n",
      "Line 3: \"input\": \"CV section: Financial Accountant specializing in financial planning, reporting, and analys...\n",
      "Line 4: \"output\": \"Please give a brief introduction about yourself based on your CV.\"...\n",
      "Line 5: },...\n",
      "Line 6: {...\n",
      "Line 7: \"input\": \"CV section: Associate in Accounting, Northern Maine Community College, 1994, GPA: 3.41; At...\n",
      "Line 8: \"output\": \"What educational qualifications do you have in accounting?\"...\n",
      "Line 9: },...\n",
      "Line 10: {...\n",
      "Total lines in file: 10171\n"
     ]
    }
   ],
   "execution_count": 11
  },
  {
   "metadata": {
    "ExecuteTime": {
     "end_time": "2025-07-26T04:42:08.334144Z",
     "start_time": "2025-07-26T04:42:08.329395Z"
    }
   },
   "cell_type": "code",
   "source": [
    "import json\n",
    "data = []\n",
    "try:\n",
    "    with open('converted_dataset_clean.json', 'r') as file:\n",
    "        data = json.load(file)\n",
    "    print(f\"Total entries parsed: {len(data)}\")\n",
    "    print(\"First 5 entries:\", data[:5])\n",
    "except json.JSONDecodeError as e:\n",
    "    print(f\"Error parsing as single JSON: {e}\")"
   ],
   "id": "99419bf2db130e85",
   "outputs": [
    {
     "name": "stdout",
     "output_type": "stream",
     "text": [
      "Total entries parsed: 2541\n",
      "First 5 entries: [{'input': 'CV section: Financial Accountant specializing in financial planning, reporting, and analysis within the Department of Defense.', 'output': 'Please give a brief introduction about yourself based on your CV.'}, {'input': 'CV section: Associate in Accounting, Northern Maine Community College, 1994, GPA: 3.41; Attended Hudson College, major in Accounting, 78 semester hours toward Bachelor’s degree; Professional Military Comptroller School, 6 weeks, 1998; Certified Defense Financial Manager, CDFM, May 2005.', 'output': 'What educational qualifications do you have in accounting?'}, {'input': 'Question: What educational qualifications do you have in accounting?\\nAnswer: I have an Associate in Accounting from Northern Maine Community College with a GPA of 3.41, 78 semester hours toward a Bachelor’s in Accounting from Hudson College, and a Certified Defense Financial Manager certification from 2005.', 'label': 'correct'}, {'input': 'Question: What educational qualifications do you have in accounting?\\nAnswer: I have a Master’s in Accounting from Hudson College and a CPA certification.', 'label': 'incorrect'}, {'input': 'CV section: Associate in Accounting, Northern Maine Community College, 1994, GPA: 3.41; Attended Hudson College, major in Accounting, 78 semester hours toward Bachelor’s degree; Professional Military Comptroller School, 6 weeks, 1998; Certified Defense Financial Manager, CDFM, May 2005.', 'output': 'How did your training at the Professional Military Comptroller School enhance your skills as a Financial Accountant?'}]\n"
     ]
    }
   ],
   "execution_count": 12
  },
  {
   "metadata": {
    "ExecuteTime": {
     "end_time": "2025-07-26T04:42:10.323463Z",
     "start_time": "2025-07-26T04:42:10.317680Z"
    }
   },
   "cell_type": "code",
   "source": [
    "from sklearn.model_selection import train_test_split\n",
    "classification_data = []\n",
    "for entry in data:\n",
    "    if isinstance(entry, dict) and \"input\" in entry and \"label\" in entry:\n",
    "        if \"Question:\" in entry[\"input\"] and \"Answer:\" in entry[\"input\"]:\n",
    "            input_text = entry[\"input\"]\n",
    "            label = 1 if entry[\"label\"] == \"correct\" else 0\n",
    "            classification_data.append({\"text\": input_text, \"label\": label})\n",
    "print(f\"Classification entries found: {len(classification_data)}\")\n",
    "if len(classification_data) == 0:\n",
    "    print(\"No classification entries found. Printing sample entries for debugging:\")\n",
    "    print(data[:10])\n",
    "    raise ValueError(\"No valid classification entries found.\")\n",
    "train_data, val_data = train_test_split(classification_data, test_size=0.2, random_state=42)\n",
    "print(f\"Training entries: {len(train_data)}, Validation entries: {len(val_data)}\")\n",
    "\n",
    "# Check class balance\n",
    "from collections import Counter\n",
    "labels = [entry[\"label\"] for entry in classification_data]\n",
    "print(\"Label distribution:\", Counter(labels))"
   ],
   "id": "c1cd74ce77a10d04",
   "outputs": [
    {
     "name": "stdout",
     "output_type": "stream",
     "text": [
      "Classification entries found: 1680\n",
      "Training entries: 1344, Validation entries: 336\n",
      "Label distribution: Counter({1: 840, 0: 840})\n"
     ]
    }
   ],
   "execution_count": 13
  },
  {
   "metadata": {
    "ExecuteTime": {
     "end_time": "2025-07-26T04:42:13.895327Z",
     "start_time": "2025-07-26T04:42:12.042067Z"
    }
   },
   "cell_type": "code",
   "source": [
    "from transformers import BertTokenizer\n",
    "from datasets import Dataset\n",
    "tokenizer = BertTokenizer.from_pretrained('bert-base-uncased')\n",
    "def tokenize_function(examples):\n",
    "    return tokenizer(examples['text'], padding=\"max_length\", truncation=True, max_length=512)\n",
    "train_dataset = Dataset.from_list(train_data)\n",
    "val_dataset = Dataset.from_list(val_data)\n",
    "tokenized_train = train_dataset.map(tokenize_function, batched=True)\n",
    "tokenized_val = val_dataset.map(tokenize_function, batched=True)\n",
    "print(f\"Training dataset size: {len(tokenized_train)}\")\n",
    "print(f\"Validation dataset size: {len(tokenized_val)}\")"
   ],
   "id": "9de00572459b25a",
   "outputs": [
    {
     "data": {
      "text/plain": [
       "Map:   0%|          | 0/1344 [00:00<?, ? examples/s]"
      ],
      "application/vnd.jupyter.widget-view+json": {
       "version_major": 2,
       "version_minor": 0,
       "model_id": "5ef393f1879048babb09f56edfe69d67"
      }
     },
     "metadata": {},
     "output_type": "display_data"
    },
    {
     "data": {
      "text/plain": [
       "Map:   0%|          | 0/336 [00:00<?, ? examples/s]"
      ],
      "application/vnd.jupyter.widget-view+json": {
       "version_major": 2,
       "version_minor": 0,
       "model_id": "5a24e2dd71524440a4390f05da6b9b56"
      }
     },
     "metadata": {},
     "output_type": "display_data"
    },
    {
     "name": "stdout",
     "output_type": "stream",
     "text": [
      "Training dataset size: 1344\n",
      "Validation dataset size: 336\n"
     ]
    }
   ],
   "execution_count": 14
  },
  {
   "metadata": {
    "ExecuteTime": {
     "end_time": "2025-07-26T04:42:16.549768Z",
     "start_time": "2025-07-26T04:42:15.367551Z"
    }
   },
   "cell_type": "code",
   "source": [
    "!pip3 install torch torchvision torchaudio\n",
    "import torch\n",
    "print(f\"PyTorch version: {torch.__version__}\")\n",
    "print(f\"MPS available: {torch.backends.mps.is_available()}\")"
   ],
   "id": "e73c8ad4161bca46",
   "outputs": [
    {
     "name": "stdout",
     "output_type": "stream",
     "text": [
      "Requirement already satisfied: torch in /Users/dasunsathsara/VVH/FinalYearProject-SmartHire-Backend/.venv/lib/python3.10/site-packages (2.7.1)\r\n",
      "Requirement already satisfied: torchvision in /Users/dasunsathsara/VVH/FinalYearProject-SmartHire-Backend/.venv/lib/python3.10/site-packages (0.22.1)\r\n",
      "Requirement already satisfied: torchaudio in /Users/dasunsathsara/VVH/FinalYearProject-SmartHire-Backend/.venv/lib/python3.10/site-packages (2.7.1)\r\n",
      "Requirement already satisfied: filelock in /Users/dasunsathsara/VVH/FinalYearProject-SmartHire-Backend/.venv/lib/python3.10/site-packages (from torch) (3.18.0)\r\n",
      "Requirement already satisfied: typing-extensions>=4.10.0 in /Users/dasunsathsara/VVH/FinalYearProject-SmartHire-Backend/.venv/lib/python3.10/site-packages (from torch) (4.14.0)\r\n",
      "Requirement already satisfied: sympy>=1.13.3 in /Users/dasunsathsara/VVH/FinalYearProject-SmartHire-Backend/.venv/lib/python3.10/site-packages (from torch) (1.14.0)\r\n",
      "Requirement already satisfied: networkx in /Users/dasunsathsara/VVH/FinalYearProject-SmartHire-Backend/.venv/lib/python3.10/site-packages (from torch) (3.4.2)\r\n",
      "Requirement already satisfied: jinja2 in /Users/dasunsathsara/VVH/FinalYearProject-SmartHire-Backend/.venv/lib/python3.10/site-packages (from torch) (3.1.6)\r\n",
      "Requirement already satisfied: fsspec in /Users/dasunsathsara/VVH/FinalYearProject-SmartHire-Backend/.venv/lib/python3.10/site-packages (from torch) (2025.3.0)\r\n",
      "Requirement already satisfied: numpy in /Users/dasunsathsara/VVH/FinalYearProject-SmartHire-Backend/.venv/lib/python3.10/site-packages (from torchvision) (2.2.6)\r\n",
      "Requirement already satisfied: pillow!=8.3.*,>=5.3.0 in /Users/dasunsathsara/VVH/FinalYearProject-SmartHire-Backend/.venv/lib/python3.10/site-packages (from torchvision) (11.3.0)\r\n",
      "Requirement already satisfied: mpmath<1.4,>=1.1.0 in /Users/dasunsathsara/VVH/FinalYearProject-SmartHire-Backend/.venv/lib/python3.10/site-packages (from sympy>=1.13.3->torch) (1.3.0)\r\n",
      "Requirement already satisfied: MarkupSafe>=2.0 in /Users/dasunsathsara/VVH/FinalYearProject-SmartHire-Backend/.venv/lib/python3.10/site-packages (from jinja2->torch) (3.0.2)\r\n",
      "\u001B[33mWARNING: There was an error checking the latest version of pip.\u001B[0m\u001B[33m\r\n",
      "\u001B[0mPyTorch version: 2.7.1\n",
      "MPS available: True\n"
     ]
    }
   ],
   "execution_count": 15
  },
  {
   "metadata": {
    "ExecuteTime": {
     "end_time": "2025-07-26T04:42:20.022369Z",
     "start_time": "2025-07-26T04:42:18.828348Z"
    }
   },
   "cell_type": "code",
   "source": [
    "!pip3 install ipywidgets\n",
    "import ipywidgets\n",
    "print(f\"ipywidgets version: {ipywidgets.__version__}\")"
   ],
   "id": "eb6c2bbd473c06b8",
   "outputs": [
    {
     "name": "stdout",
     "output_type": "stream",
     "text": [
      "Requirement already satisfied: ipywidgets in /Users/dasunsathsara/VVH/FinalYearProject-SmartHire-Backend/.venv/lib/python3.10/site-packages (8.1.7)\r\n",
      "Requirement already satisfied: comm>=0.1.3 in /Users/dasunsathsara/VVH/FinalYearProject-SmartHire-Backend/.venv/lib/python3.10/site-packages (from ipywidgets) (0.2.2)\r\n",
      "Requirement already satisfied: ipython>=6.1.0 in /Users/dasunsathsara/VVH/FinalYearProject-SmartHire-Backend/.venv/lib/python3.10/site-packages (from ipywidgets) (8.37.0)\r\n",
      "Requirement already satisfied: traitlets>=4.3.1 in /Users/dasunsathsara/VVH/FinalYearProject-SmartHire-Backend/.venv/lib/python3.10/site-packages (from ipywidgets) (5.14.3)\r\n",
      "Requirement already satisfied: widgetsnbextension~=4.0.14 in /Users/dasunsathsara/VVH/FinalYearProject-SmartHire-Backend/.venv/lib/python3.10/site-packages (from ipywidgets) (4.0.14)\r\n",
      "Requirement already satisfied: jupyterlab_widgets~=3.0.15 in /Users/dasunsathsara/VVH/FinalYearProject-SmartHire-Backend/.venv/lib/python3.10/site-packages (from ipywidgets) (3.0.15)\r\n",
      "Requirement already satisfied: decorator in /Users/dasunsathsara/VVH/FinalYearProject-SmartHire-Backend/.venv/lib/python3.10/site-packages (from ipython>=6.1.0->ipywidgets) (5.2.1)\r\n",
      "Requirement already satisfied: exceptiongroup in /Users/dasunsathsara/VVH/FinalYearProject-SmartHire-Backend/.venv/lib/python3.10/site-packages (from ipython>=6.1.0->ipywidgets) (1.3.0)\r\n",
      "Requirement already satisfied: jedi>=0.16 in /Users/dasunsathsara/VVH/FinalYearProject-SmartHire-Backend/.venv/lib/python3.10/site-packages (from ipython>=6.1.0->ipywidgets) (0.19.2)\r\n",
      "Requirement already satisfied: matplotlib-inline in /Users/dasunsathsara/VVH/FinalYearProject-SmartHire-Backend/.venv/lib/python3.10/site-packages (from ipython>=6.1.0->ipywidgets) (0.1.7)\r\n",
      "Requirement already satisfied: pexpect>4.3 in /Users/dasunsathsara/VVH/FinalYearProject-SmartHire-Backend/.venv/lib/python3.10/site-packages (from ipython>=6.1.0->ipywidgets) (4.9.0)\r\n",
      "Requirement already satisfied: prompt_toolkit<3.1.0,>=3.0.41 in /Users/dasunsathsara/VVH/FinalYearProject-SmartHire-Backend/.venv/lib/python3.10/site-packages (from ipython>=6.1.0->ipywidgets) (3.0.51)\r\n",
      "Requirement already satisfied: pygments>=2.4.0 in /Users/dasunsathsara/VVH/FinalYearProject-SmartHire-Backend/.venv/lib/python3.10/site-packages (from ipython>=6.1.0->ipywidgets) (2.19.2)\r\n",
      "Requirement already satisfied: stack_data in /Users/dasunsathsara/VVH/FinalYearProject-SmartHire-Backend/.venv/lib/python3.10/site-packages (from ipython>=6.1.0->ipywidgets) (0.6.3)\r\n",
      "Requirement already satisfied: typing_extensions>=4.6 in /Users/dasunsathsara/VVH/FinalYearProject-SmartHire-Backend/.venv/lib/python3.10/site-packages (from ipython>=6.1.0->ipywidgets) (4.14.0)\r\n",
      "Requirement already satisfied: parso<0.9.0,>=0.8.4 in /Users/dasunsathsara/VVH/FinalYearProject-SmartHire-Backend/.venv/lib/python3.10/site-packages (from jedi>=0.16->ipython>=6.1.0->ipywidgets) (0.8.4)\r\n",
      "Requirement already satisfied: ptyprocess>=0.5 in /Users/dasunsathsara/VVH/FinalYearProject-SmartHire-Backend/.venv/lib/python3.10/site-packages (from pexpect>4.3->ipython>=6.1.0->ipywidgets) (0.7.0)\r\n",
      "Requirement already satisfied: wcwidth in /Users/dasunsathsara/VVH/FinalYearProject-SmartHire-Backend/.venv/lib/python3.10/site-packages (from prompt_toolkit<3.1.0,>=3.0.41->ipython>=6.1.0->ipywidgets) (0.2.13)\r\n",
      "Requirement already satisfied: executing>=1.2.0 in /Users/dasunsathsara/VVH/FinalYearProject-SmartHire-Backend/.venv/lib/python3.10/site-packages (from stack_data->ipython>=6.1.0->ipywidgets) (2.2.0)\r\n",
      "Requirement already satisfied: asttokens>=2.1.0 in /Users/dasunsathsara/VVH/FinalYearProject-SmartHire-Backend/.venv/lib/python3.10/site-packages (from stack_data->ipython>=6.1.0->ipywidgets) (3.0.0)\r\n",
      "Requirement already satisfied: pure-eval in /Users/dasunsathsara/VVH/FinalYearProject-SmartHire-Backend/.venv/lib/python3.10/site-packages (from stack_data->ipython>=6.1.0->ipywidgets) (0.2.3)\r\n",
      "\u001B[33mWARNING: There was an error checking the latest version of pip.\u001B[0m\u001B[33m\r\n",
      "\u001B[0mipywidgets version: 8.1.7\n"
     ]
    }
   ],
   "execution_count": 17
  },
  {
   "metadata": {
    "ExecuteTime": {
     "end_time": "2025-07-26T04:42:30.064504Z",
     "start_time": "2025-07-26T04:42:28.103167Z"
    }
   },
   "cell_type": "code",
   "source": [
    "import json\n",
    "from sklearn.model_selection import train_test_split\n",
    "from transformers import BertTokenizer\n",
    "from datasets import Dataset\n",
    "\n",
    "# Parse data\n",
    "with open('converted_dataset_clean.json', 'r') as file:\n",
    "    data = json.load(file)\n",
    "print(f\"Total entries parsed: {len(data)}\")\n",
    "\n",
    "# Filter classification entries\n",
    "classification_data = []\n",
    "for entry in data:\n",
    "    if isinstance(entry, dict) and \"input\" in entry and \"label\" in entry:\n",
    "        if \"Question:\" in entry[\"input\"] and \"Answer:\" in entry[\"input\"]:\n",
    "            input_text = entry[\"input\"]\n",
    "            label = 1 if entry[\"label\"] == \"correct\" else 0\n",
    "            classification_data.append({\"text\": input_text, \"label\": label})\n",
    "print(f\"Classification entries found: {len(classification_data)}\")\n",
    "if len(classification_data) == 0:\n",
    "    print(\"No classification entries found. Printing sample entries:\")\n",
    "    print(data[:10])\n",
    "    raise ValueError(\"No valid classification entries found.\")\n",
    "\n",
    "# Split data\n",
    "train_data, val_data = train_test_split(classification_data, test_size=0.2, random_state=42)\n",
    "print(f\"Training entries: {len(train_data)}, Validation entries: {len(val_data)}\")\n",
    "\n",
    "# Check class balance\n",
    "from collections import Counter\n",
    "labels = [entry[\"label\"] for entry in classification_data]\n",
    "print(\"Label distribution:\", Counter(labels))\n",
    "\n",
    "# Tokenize\n",
    "tokenizer = BertTokenizer.from_pretrained('bert-base-uncased')\n",
    "def tokenize_function(examples):\n",
    "    return tokenizer(examples['text'], padding=\"max_length\", truncation=True, max_length=512)\n",
    "train_dataset = Dataset.from_list(train_data)\n",
    "val_dataset = Dataset.from_list(val_data)\n",
    "tokenized_train = train_dataset.map(tokenize_function, batched=True)\n",
    "tokenized_val = val_dataset.map(tokenize_function, batched=True)\n",
    "print(f\"Training dataset size: {len(tokenized_train)}\")\n",
    "print(f\"Validation dataset size: {len(tokenized_val)}\")"
   ],
   "id": "fb1ff2c383359a19",
   "outputs": [
    {
     "name": "stdout",
     "output_type": "stream",
     "text": [
      "Total entries parsed: 2541\n",
      "Classification entries found: 1680\n",
      "Training entries: 1344, Validation entries: 336\n",
      "Label distribution: Counter({1: 840, 0: 840})\n"
     ]
    },
    {
     "data": {
      "text/plain": [
       "Map:   0%|          | 0/1344 [00:00<?, ? examples/s]"
      ],
      "application/vnd.jupyter.widget-view+json": {
       "version_major": 2,
       "version_minor": 0,
       "model_id": "31c3f9fb678e4d87be369b248b026fae"
      }
     },
     "metadata": {},
     "output_type": "display_data"
    },
    {
     "data": {
      "text/plain": [
       "Map:   0%|          | 0/336 [00:00<?, ? examples/s]"
      ],
      "application/vnd.jupyter.widget-view+json": {
       "version_major": 2,
       "version_minor": 0,
       "model_id": "e1272b017b86443697f4330a832c3410"
      }
     },
     "metadata": {},
     "output_type": "display_data"
    },
    {
     "name": "stdout",
     "output_type": "stream",
     "text": [
      "Training dataset size: 1344\n",
      "Validation dataset size: 336\n"
     ]
    }
   ],
   "execution_count": 20
  },
  {
   "metadata": {
    "ExecuteTime": {
     "end_time": "2025-07-26T04:42:31.899836Z",
     "start_time": "2025-07-26T04:42:31.897819Z"
    }
   },
   "cell_type": "code",
   "source": [
    "import sys\n",
    "print(sys.executable)  # Should be /Library/Frameworks/Python.framework/Versions/3.13/bin/python3.13"
   ],
   "id": "560250c78e4271d7",
   "outputs": [
    {
     "name": "stdout",
     "output_type": "stream",
     "text": [
      "/Users/dasunsathsara/VVH/FinalYearProject-SmartHire-Backend/.venv/bin/python\n"
     ]
    }
   ],
   "execution_count": 21
  },
  {
   "metadata": {
    "ExecuteTime": {
     "end_time": "2025-07-26T04:42:48.118691Z",
     "start_time": "2025-07-26T04:42:46.929305Z"
    }
   },
   "cell_type": "code",
   "source": "!pip3 install torch torchvision torchaudio\n",
   "id": "1a1e68121ce09052",
   "outputs": [
    {
     "name": "stdout",
     "output_type": "stream",
     "text": [
      "Requirement already satisfied: torch in /Users/dasunsathsara/VVH/FinalYearProject-SmartHire-Backend/.venv/lib/python3.10/site-packages (2.7.1)\r\n",
      "Requirement already satisfied: torchvision in /Users/dasunsathsara/VVH/FinalYearProject-SmartHire-Backend/.venv/lib/python3.10/site-packages (0.22.1)\r\n",
      "Requirement already satisfied: torchaudio in /Users/dasunsathsara/VVH/FinalYearProject-SmartHire-Backend/.venv/lib/python3.10/site-packages (2.7.1)\r\n",
      "Requirement already satisfied: filelock in /Users/dasunsathsara/VVH/FinalYearProject-SmartHire-Backend/.venv/lib/python3.10/site-packages (from torch) (3.18.0)\r\n",
      "Requirement already satisfied: typing-extensions>=4.10.0 in /Users/dasunsathsara/VVH/FinalYearProject-SmartHire-Backend/.venv/lib/python3.10/site-packages (from torch) (4.14.0)\r\n",
      "Requirement already satisfied: sympy>=1.13.3 in /Users/dasunsathsara/VVH/FinalYearProject-SmartHire-Backend/.venv/lib/python3.10/site-packages (from torch) (1.14.0)\r\n",
      "Requirement already satisfied: networkx in /Users/dasunsathsara/VVH/FinalYearProject-SmartHire-Backend/.venv/lib/python3.10/site-packages (from torch) (3.4.2)\r\n",
      "Requirement already satisfied: jinja2 in /Users/dasunsathsara/VVH/FinalYearProject-SmartHire-Backend/.venv/lib/python3.10/site-packages (from torch) (3.1.6)\r\n",
      "Requirement already satisfied: fsspec in /Users/dasunsathsara/VVH/FinalYearProject-SmartHire-Backend/.venv/lib/python3.10/site-packages (from torch) (2025.3.0)\r\n",
      "Requirement already satisfied: numpy in /Users/dasunsathsara/VVH/FinalYearProject-SmartHire-Backend/.venv/lib/python3.10/site-packages (from torchvision) (2.2.6)\r\n",
      "Requirement already satisfied: pillow!=8.3.*,>=5.3.0 in /Users/dasunsathsara/VVH/FinalYearProject-SmartHire-Backend/.venv/lib/python3.10/site-packages (from torchvision) (11.3.0)\r\n",
      "Requirement already satisfied: mpmath<1.4,>=1.1.0 in /Users/dasunsathsara/VVH/FinalYearProject-SmartHire-Backend/.venv/lib/python3.10/site-packages (from sympy>=1.13.3->torch) (1.3.0)\r\n",
      "Requirement already satisfied: MarkupSafe>=2.0 in /Users/dasunsathsara/VVH/FinalYearProject-SmartHire-Backend/.venv/lib/python3.10/site-packages (from jinja2->torch) (3.0.2)\r\n",
      "\u001B[33mWARNING: There was an error checking the latest version of pip.\u001B[0m\u001B[33m\r\n",
      "\u001B[0m"
     ]
    }
   ],
   "execution_count": 24
  },
  {
   "metadata": {
    "ExecuteTime": {
     "end_time": "2025-07-26T04:42:50.486816Z",
     "start_time": "2025-07-26T04:42:49.093647Z"
    }
   },
   "cell_type": "code",
   "source": "!pip3 install --upgrade transformers\n",
   "id": "964e737d2c9f7f07",
   "outputs": [
    {
     "name": "stdout",
     "output_type": "stream",
     "text": [
      "Requirement already satisfied: transformers in /Users/dasunsathsara/VVH/FinalYearProject-SmartHire-Backend/.venv/lib/python3.10/site-packages (4.54.0)\r\n",
      "Requirement already satisfied: filelock in /Users/dasunsathsara/VVH/FinalYearProject-SmartHire-Backend/.venv/lib/python3.10/site-packages (from transformers) (3.18.0)\r\n",
      "Requirement already satisfied: huggingface-hub<1.0,>=0.34.0 in /Users/dasunsathsara/VVH/FinalYearProject-SmartHire-Backend/.venv/lib/python3.10/site-packages (from transformers) (0.34.1)\r\n",
      "Requirement already satisfied: numpy>=1.17 in /Users/dasunsathsara/VVH/FinalYearProject-SmartHire-Backend/.venv/lib/python3.10/site-packages (from transformers) (2.2.6)\r\n",
      "Requirement already satisfied: packaging>=20.0 in /Users/dasunsathsara/VVH/FinalYearProject-SmartHire-Backend/.venv/lib/python3.10/site-packages (from transformers) (25.0)\r\n",
      "Requirement already satisfied: pyyaml>=5.1 in /Users/dasunsathsara/VVH/FinalYearProject-SmartHire-Backend/.venv/lib/python3.10/site-packages (from transformers) (6.0.2)\r\n",
      "Requirement already satisfied: regex!=2019.12.17 in /Users/dasunsathsara/VVH/FinalYearProject-SmartHire-Backend/.venv/lib/python3.10/site-packages (from transformers) (2024.11.6)\r\n",
      "Requirement already satisfied: requests in /Users/dasunsathsara/VVH/FinalYearProject-SmartHire-Backend/.venv/lib/python3.10/site-packages (from transformers) (2.32.4)\r\n",
      "Requirement already satisfied: tokenizers<0.22,>=0.21 in /Users/dasunsathsara/VVH/FinalYearProject-SmartHire-Backend/.venv/lib/python3.10/site-packages (from transformers) (0.21.2)\r\n",
      "Requirement already satisfied: safetensors>=0.4.3 in /Users/dasunsathsara/VVH/FinalYearProject-SmartHire-Backend/.venv/lib/python3.10/site-packages (from transformers) (0.5.3)\r\n",
      "Requirement already satisfied: tqdm>=4.27 in /Users/dasunsathsara/VVH/FinalYearProject-SmartHire-Backend/.venv/lib/python3.10/site-packages (from transformers) (4.67.1)\r\n",
      "Requirement already satisfied: fsspec>=2023.5.0 in /Users/dasunsathsara/VVH/FinalYearProject-SmartHire-Backend/.venv/lib/python3.10/site-packages (from huggingface-hub<1.0,>=0.34.0->transformers) (2025.3.0)\r\n",
      "Requirement already satisfied: typing-extensions>=3.7.4.3 in /Users/dasunsathsara/VVH/FinalYearProject-SmartHire-Backend/.venv/lib/python3.10/site-packages (from huggingface-hub<1.0,>=0.34.0->transformers) (4.14.0)\r\n",
      "Requirement already satisfied: hf-xet<2.0.0,>=1.1.3 in /Users/dasunsathsara/VVH/FinalYearProject-SmartHire-Backend/.venv/lib/python3.10/site-packages (from huggingface-hub<1.0,>=0.34.0->transformers) (1.1.5)\r\n",
      "Requirement already satisfied: charset_normalizer<4,>=2 in /Users/dasunsathsara/VVH/FinalYearProject-SmartHire-Backend/.venv/lib/python3.10/site-packages (from requests->transformers) (3.4.2)\r\n",
      "Requirement already satisfied: idna<4,>=2.5 in /Users/dasunsathsara/VVH/FinalYearProject-SmartHire-Backend/.venv/lib/python3.10/site-packages (from requests->transformers) (3.10)\r\n",
      "Requirement already satisfied: urllib3<3,>=1.21.1 in /Users/dasunsathsara/VVH/FinalYearProject-SmartHire-Backend/.venv/lib/python3.10/site-packages (from requests->transformers) (2.5.0)\r\n",
      "Requirement already satisfied: certifi>=2017.4.17 in /Users/dasunsathsara/VVH/FinalYearProject-SmartHire-Backend/.venv/lib/python3.10/site-packages (from requests->transformers) (2025.7.14)\r\n",
      "\u001B[33mWARNING: There was an error checking the latest version of pip.\u001B[0m\u001B[33m\r\n",
      "\u001B[0m"
     ]
    }
   ],
   "execution_count": 25
  },
  {
   "metadata": {
    "ExecuteTime": {
     "end_time": "2025-07-26T04:42:53.629458Z",
     "start_time": "2025-07-26T04:42:52.237472Z"
    }
   },
   "cell_type": "code",
   "source": "!pip3 install --upgrade accelerate",
   "id": "fc433882588acca6",
   "outputs": [
    {
     "name": "stdout",
     "output_type": "stream",
     "text": [
      "Requirement already satisfied: accelerate in /Users/dasunsathsara/VVH/FinalYearProject-SmartHire-Backend/.venv/lib/python3.10/site-packages (1.9.0)\r\n",
      "Requirement already satisfied: numpy<3.0.0,>=1.17 in /Users/dasunsathsara/VVH/FinalYearProject-SmartHire-Backend/.venv/lib/python3.10/site-packages (from accelerate) (2.2.6)\r\n",
      "Requirement already satisfied: packaging>=20.0 in /Users/dasunsathsara/VVH/FinalYearProject-SmartHire-Backend/.venv/lib/python3.10/site-packages (from accelerate) (25.0)\r\n",
      "Requirement already satisfied: psutil in /Users/dasunsathsara/VVH/FinalYearProject-SmartHire-Backend/.venv/lib/python3.10/site-packages (from accelerate) (7.0.0)\r\n",
      "Requirement already satisfied: pyyaml in /Users/dasunsathsara/VVH/FinalYearProject-SmartHire-Backend/.venv/lib/python3.10/site-packages (from accelerate) (6.0.2)\r\n",
      "Requirement already satisfied: torch>=2.0.0 in /Users/dasunsathsara/VVH/FinalYearProject-SmartHire-Backend/.venv/lib/python3.10/site-packages (from accelerate) (2.7.1)\r\n",
      "Requirement already satisfied: huggingface_hub>=0.21.0 in /Users/dasunsathsara/VVH/FinalYearProject-SmartHire-Backend/.venv/lib/python3.10/site-packages (from accelerate) (0.34.1)\r\n",
      "Requirement already satisfied: safetensors>=0.4.3 in /Users/dasunsathsara/VVH/FinalYearProject-SmartHire-Backend/.venv/lib/python3.10/site-packages (from accelerate) (0.5.3)\r\n",
      "Requirement already satisfied: filelock in /Users/dasunsathsara/VVH/FinalYearProject-SmartHire-Backend/.venv/lib/python3.10/site-packages (from huggingface_hub>=0.21.0->accelerate) (3.18.0)\r\n",
      "Requirement already satisfied: fsspec>=2023.5.0 in /Users/dasunsathsara/VVH/FinalYearProject-SmartHire-Backend/.venv/lib/python3.10/site-packages (from huggingface_hub>=0.21.0->accelerate) (2025.3.0)\r\n",
      "Requirement already satisfied: requests in /Users/dasunsathsara/VVH/FinalYearProject-SmartHire-Backend/.venv/lib/python3.10/site-packages (from huggingface_hub>=0.21.0->accelerate) (2.32.4)\r\n",
      "Requirement already satisfied: tqdm>=4.42.1 in /Users/dasunsathsara/VVH/FinalYearProject-SmartHire-Backend/.venv/lib/python3.10/site-packages (from huggingface_hub>=0.21.0->accelerate) (4.67.1)\r\n",
      "Requirement already satisfied: typing-extensions>=3.7.4.3 in /Users/dasunsathsara/VVH/FinalYearProject-SmartHire-Backend/.venv/lib/python3.10/site-packages (from huggingface_hub>=0.21.0->accelerate) (4.14.0)\r\n",
      "Requirement already satisfied: hf-xet<2.0.0,>=1.1.3 in /Users/dasunsathsara/VVH/FinalYearProject-SmartHire-Backend/.venv/lib/python3.10/site-packages (from huggingface_hub>=0.21.0->accelerate) (1.1.5)\r\n",
      "Requirement already satisfied: sympy>=1.13.3 in /Users/dasunsathsara/VVH/FinalYearProject-SmartHire-Backend/.venv/lib/python3.10/site-packages (from torch>=2.0.0->accelerate) (1.14.0)\r\n",
      "Requirement already satisfied: networkx in /Users/dasunsathsara/VVH/FinalYearProject-SmartHire-Backend/.venv/lib/python3.10/site-packages (from torch>=2.0.0->accelerate) (3.4.2)\r\n",
      "Requirement already satisfied: jinja2 in /Users/dasunsathsara/VVH/FinalYearProject-SmartHire-Backend/.venv/lib/python3.10/site-packages (from torch>=2.0.0->accelerate) (3.1.6)\r\n",
      "Requirement already satisfied: mpmath<1.4,>=1.1.0 in /Users/dasunsathsara/VVH/FinalYearProject-SmartHire-Backend/.venv/lib/python3.10/site-packages (from sympy>=1.13.3->torch>=2.0.0->accelerate) (1.3.0)\r\n",
      "Requirement already satisfied: MarkupSafe>=2.0 in /Users/dasunsathsara/VVH/FinalYearProject-SmartHire-Backend/.venv/lib/python3.10/site-packages (from jinja2->torch>=2.0.0->accelerate) (3.0.2)\r\n",
      "Requirement already satisfied: charset_normalizer<4,>=2 in /Users/dasunsathsara/VVH/FinalYearProject-SmartHire-Backend/.venv/lib/python3.10/site-packages (from requests->huggingface_hub>=0.21.0->accelerate) (3.4.2)\r\n",
      "Requirement already satisfied: idna<4,>=2.5 in /Users/dasunsathsara/VVH/FinalYearProject-SmartHire-Backend/.venv/lib/python3.10/site-packages (from requests->huggingface_hub>=0.21.0->accelerate) (3.10)\r\n",
      "Requirement already satisfied: urllib3<3,>=1.21.1 in /Users/dasunsathsara/VVH/FinalYearProject-SmartHire-Backend/.venv/lib/python3.10/site-packages (from requests->huggingface_hub>=0.21.0->accelerate) (2.5.0)\r\n",
      "Requirement already satisfied: certifi>=2017.4.17 in /Users/dasunsathsara/VVH/FinalYearProject-SmartHire-Backend/.venv/lib/python3.10/site-packages (from requests->huggingface_hub>=0.21.0->accelerate) (2025.7.14)\r\n",
      "\u001B[33mWARNING: There was an error checking the latest version of pip.\u001B[0m\u001B[33m\r\n",
      "\u001B[0m"
     ]
    }
   ],
   "execution_count": 26
  },
  {
   "metadata": {},
   "cell_type": "code",
   "source": [
    "import os\n",
    "import time\n",
    "os.environ[\"WANDB_DISABLED\"] = \"true\"\n",
    "from transformers import BertForSequenceClassification, Trainer, TrainingArguments\n",
    "import evaluate\n",
    "import numpy as np\n",
    "import torch\n",
    "\n",
    "# Set device\n",
    "device = torch.device(\"mps\" if torch.backends.mps.is_available() else \"cpu\")\n",
    "print(f\"Using device: {device}\")\n",
    "\n",
    "# Load accuracy metric\n",
    "accuracy_metric = evaluate.load(\"accuracy\")\n",
    "\n",
    "def compute_metrics(eval_pred):\n",
    "    logits, labels = eval_pred\n",
    "    predictions = np.argmax(logits, axis=-1)\n",
    "    return accuracy_metric.compute(predictions=predictions, references=labels)\n",
    "\n",
    "# Initialize model\n",
    "model = BertForSequenceClassification.from_pretrained('bert-base-uncased', num_labels=2)\n",
    "model.to(device)\n",
    "\n",
    "# Training arguments\n",
    "training_args = TrainingArguments(\n",
    "    output_dir='./results',\n",
    "    num_train_epochs=5,\n",
    "    per_device_train_batch_size=16,\n",
    "    per_device_eval_batch_size=16,\n",
    "    learning_rate=2e-5,\n",
    "    warmup_steps=500,\n",
    "    weight_decay=0.01,\n",
    "    logging_dir='./logs',\n",
    "    logging_steps=10,\n",
    "    eval_strategy=\"epoch\",\n",
    "    save_strategy=\"epoch\",\n",
    "    load_best_model_at_end=True,\n",
    "    metric_for_best_model=\"accuracy\",\n",
    ")\n",
    "\n",
    "# Initialize Trainer\n",
    "trainer = Trainer(\n",
    "    model=model,\n",
    "    args=training_args,\n",
    "    train_dataset=tokenized_train,\n",
    "    eval_dataset=tokenized_val,\n",
    "    compute_metrics=compute_metrics,\n",
    ")\n",
    "\n",
    "# Train with timing\n",
    "start_time = time.time()\n",
    "trainer.train()\n",
    "end_time = time.time()\n",
    "training_time = end_time - start_time\n",
    "print(f\"Total training time: {training_time // 60:.0f} minutes {training_time % 60:.2f} seconds\")"
   ],
   "id": "b41c33e859ab6408",
   "outputs": [],
   "execution_count": null
  },
  {
   "metadata": {
    "ExecuteTime": {
     "end_time": "2025-07-26T04:42:57.502956Z",
     "start_time": "2025-07-26T04:42:57.484016Z"
    }
   },
   "cell_type": "code",
   "outputs": [
    {
     "ename": "NameError",
     "evalue": "name 'trainer' is not defined",
     "output_type": "error",
     "traceback": [
      "\u001B[0;31m---------------------------------------------------------------------------\u001B[0m",
      "\u001B[0;31mNameError\u001B[0m                                 Traceback (most recent call last)",
      "Cell \u001B[0;32mIn[27], line 1\u001B[0m\n\u001B[0;32m----> 1\u001B[0m eval_results \u001B[38;5;241m=\u001B[39m \u001B[43mtrainer\u001B[49m\u001B[38;5;241m.\u001B[39mevaluate()\n\u001B[1;32m      2\u001B[0m \u001B[38;5;28mprint\u001B[39m(\u001B[38;5;124m\"\u001B[39m\u001B[38;5;124mFinal Evaluation Results:\u001B[39m\u001B[38;5;124m\"\u001B[39m, eval_results)\n",
      "\u001B[0;31mNameError\u001B[0m: name 'trainer' is not defined"
     ]
    }
   ],
   "execution_count": 27,
   "source": [
    "eval_results = trainer.evaluate()\n",
    "print(\"Final Evaluation Results:\", eval_results)"
   ],
   "id": "c33d4b9899cb550c"
  },
  {
   "metadata": {},
   "cell_type": "code",
   "source": [
    "log_history = trainer.state.log_history\n",
    "val_accuracy = []\n",
    "epochs = []\n",
    "for log in log_history:\n",
    "    if 'eval_accuracy' in log and 'epoch' in log:\n",
    "        val_accuracy.append(log['eval_accuracy'])\n",
    "        epochs.append(log['epoch'])\n",
    "print(\"Epochs:\", epochs)\n",
    "print(\"Validation Accuracy:\", val_accuracy)"
   ],
   "id": "987ec7bccab7776d",
   "outputs": [],
   "execution_count": null
  },
  {
   "metadata": {},
   "cell_type": "code",
   "source": [
    "model.save_pretrained('./trained_model')\n",
    "tokenizer.save_pretrained('./trained_model')\n",
    "import shutil\n",
    "shutil.make_archive('trained_model', 'zip', './trained_model')\n",
    "from IPython.display import FileLink\n",
    "display(FileLink('trained_model.zip'))"
   ],
   "id": "ef6abe2eb86d0d93",
   "outputs": [],
   "execution_count": null
  },
  {
   "metadata": {
    "ExecuteTime": {
     "end_time": "2025-07-23T16:50:53.806991Z",
     "start_time": "2025-07-23T16:50:53.374008Z"
    }
   },
   "cell_type": "code",
   "source": [
    "from collections import Counter\n",
    "try:\n",
    "    train_labels = [entry[\"label\"] for entry in tokenized_train]\n",
    "    val_labels = [entry[\"label\"] for entry in tokenized_val]\n",
    "    print(\"Training label distribution:\", Counter(train_labels))\n",
    "    print(\"Validation label distribution:\", Counter(val_labels))\n",
    "except NameError:\n",
    "    print(\"Tokenized datasets not defined. Re-run tokenization (Step 3).\")"
   ],
   "id": "418e78cd1a68e6f7",
   "outputs": [
    {
     "name": "stdout",
     "output_type": "stream",
     "text": [
      "Training label distribution: Counter({0: 675, 1: 669})\n",
      "Validation label distribution: Counter({1: 171, 0: 165})\n"
     ]
    }
   ],
   "execution_count": 58
  },
  {
   "metadata": {
    "ExecuteTime": {
     "end_time": "2025-07-23T16:50:55.373574Z",
     "start_time": "2025-07-23T16:50:55.367658Z"
    }
   },
   "cell_type": "code",
   "source": [
    "try:\n",
    "    print(\"Sample training entry:\", tokenized_train[0])\n",
    "    print(\"Sample validation entry:\", tokenized_val[0])\n",
    "except NameError:\n",
    "    print(\"Tokenized datasets not defined. Re-run tokenization (Step 3).\")"
   ],
   "id": "7ad771f3c8da71ef",
   "outputs": [
    {
     "name": "stdout",
     "output_type": "stream",
     "text": [
      "Sample training entry: {'text': 'Question: Can you describe how you supported NASA mission-based reporting activities and the skills you applied?\\nAnswer: I delegated reporting tasks to others without direct involvement.', 'label': 0, 'input_ids': [101, 3160, 1024, 2064, 2017, 6235, 2129, 2017, 3569, 9274, 3260, 1011, 2241, 7316, 3450, 1998, 1996, 4813, 2017, 4162, 1029, 3437, 1024, 1045, 11849, 2094, 7316, 8518, 2000, 2500, 2302, 3622, 6624, 1012, 102, 0, 0, 0, 0, 0, 0, 0, 0, 0, 0, 0, 0, 0, 0, 0, 0, 0, 0, 0, 0, 0, 0, 0, 0, 0, 0, 0, 0, 0, 0, 0, 0, 0, 0, 0, 0, 0, 0, 0, 0, 0, 0, 0, 0, 0, 0, 0, 0, 0, 0, 0, 0, 0, 0, 0, 0, 0, 0, 0, 0, 0, 0, 0, 0, 0, 0, 0, 0, 0, 0, 0, 0, 0, 0, 0, 0, 0, 0, 0, 0, 0, 0, 0, 0, 0, 0, 0, 0, 0, 0, 0, 0, 0, 0, 0, 0, 0, 0, 0, 0, 0, 0, 0, 0, 0, 0, 0, 0, 0, 0, 0, 0, 0, 0, 0, 0, 0, 0, 0, 0, 0, 0, 0, 0, 0, 0, 0, 0, 0, 0, 0, 0, 0, 0, 0, 0, 0, 0, 0, 0, 0, 0, 0, 0, 0, 0, 0, 0, 0, 0, 0, 0, 0, 0, 0, 0, 0, 0, 0, 0, 0, 0, 0, 0, 0, 0, 0, 0, 0, 0, 0, 0, 0, 0, 0, 0, 0, 0, 0, 0, 0, 0, 0, 0, 0, 0, 0, 0, 0, 0, 0, 0, 0, 0, 0, 0, 0, 0, 0, 0, 0, 0, 0, 0, 0, 0, 0, 0, 0, 0, 0, 0, 0, 0, 0, 0, 0, 0, 0, 0, 0, 0, 0, 0, 0, 0, 0, 0, 0, 0, 0, 0, 0, 0, 0, 0, 0, 0, 0, 0, 0, 0, 0, 0, 0, 0, 0, 0, 0, 0, 0, 0, 0, 0, 0, 0, 0, 0, 0, 0, 0, 0, 0, 0, 0, 0, 0, 0, 0, 0, 0, 0, 0, 0, 0, 0, 0, 0, 0, 0, 0, 0, 0, 0, 0, 0, 0, 0, 0, 0, 0, 0, 0, 0, 0, 0, 0, 0, 0, 0, 0, 0, 0, 0, 0, 0, 0, 0, 0, 0, 0, 0, 0, 0, 0, 0, 0, 0, 0, 0, 0, 0, 0, 0, 0, 0, 0, 0, 0, 0, 0, 0, 0, 0, 0, 0, 0, 0, 0, 0, 0, 0, 0, 0, 0, 0, 0, 0, 0, 0, 0, 0, 0, 0, 0, 0, 0, 0, 0, 0, 0, 0, 0, 0, 0, 0, 0, 0, 0, 0, 0, 0, 0, 0, 0, 0, 0, 0, 0, 0, 0, 0, 0, 0, 0, 0, 0, 0, 0, 0, 0, 0, 0, 0, 0, 0, 0, 0, 0, 0, 0, 0, 0, 0, 0, 0, 0, 0, 0, 0, 0, 0, 0, 0, 0, 0, 0, 0, 0, 0, 0, 0, 0, 0, 0, 0, 0, 0, 0, 0, 0, 0, 0, 0, 0, 0, 0, 0, 0, 0, 0, 0, 0, 0, 0, 0, 0, 0, 0, 0, 0, 0, 0, 0, 0, 0, 0, 0, 0, 0, 0, 0, 0, 0, 0, 0, 0, 0, 0, 0, 0, 0, 0, 0, 0, 0, 0], 'token_type_ids': [0, 0, 0, 0, 0, 0, 0, 0, 0, 0, 0, 0, 0, 0, 0, 0, 0, 0, 0, 0, 0, 0, 0, 0, 0, 0, 0, 0, 0, 0, 0, 0, 0, 0, 0, 0, 0, 0, 0, 0, 0, 0, 0, 0, 0, 0, 0, 0, 0, 0, 0, 0, 0, 0, 0, 0, 0, 0, 0, 0, 0, 0, 0, 0, 0, 0, 0, 0, 0, 0, 0, 0, 0, 0, 0, 0, 0, 0, 0, 0, 0, 0, 0, 0, 0, 0, 0, 0, 0, 0, 0, 0, 0, 0, 0, 0, 0, 0, 0, 0, 0, 0, 0, 0, 0, 0, 0, 0, 0, 0, 0, 0, 0, 0, 0, 0, 0, 0, 0, 0, 0, 0, 0, 0, 0, 0, 0, 0, 0, 0, 0, 0, 0, 0, 0, 0, 0, 0, 0, 0, 0, 0, 0, 0, 0, 0, 0, 0, 0, 0, 0, 0, 0, 0, 0, 0, 0, 0, 0, 0, 0, 0, 0, 0, 0, 0, 0, 0, 0, 0, 0, 0, 0, 0, 0, 0, 0, 0, 0, 0, 0, 0, 0, 0, 0, 0, 0, 0, 0, 0, 0, 0, 0, 0, 0, 0, 0, 0, 0, 0, 0, 0, 0, 0, 0, 0, 0, 0, 0, 0, 0, 0, 0, 0, 0, 0, 0, 0, 0, 0, 0, 0, 0, 0, 0, 0, 0, 0, 0, 0, 0, 0, 0, 0, 0, 0, 0, 0, 0, 0, 0, 0, 0, 0, 0, 0, 0, 0, 0, 0, 0, 0, 0, 0, 0, 0, 0, 0, 0, 0, 0, 0, 0, 0, 0, 0, 0, 0, 0, 0, 0, 0, 0, 0, 0, 0, 0, 0, 0, 0, 0, 0, 0, 0, 0, 0, 0, 0, 0, 0, 0, 0, 0, 0, 0, 0, 0, 0, 0, 0, 0, 0, 0, 0, 0, 0, 0, 0, 0, 0, 0, 0, 0, 0, 0, 0, 0, 0, 0, 0, 0, 0, 0, 0, 0, 0, 0, 0, 0, 0, 0, 0, 0, 0, 0, 0, 0, 0, 0, 0, 0, 0, 0, 0, 0, 0, 0, 0, 0, 0, 0, 0, 0, 0, 0, 0, 0, 0, 0, 0, 0, 0, 0, 0, 0, 0, 0, 0, 0, 0, 0, 0, 0, 0, 0, 0, 0, 0, 0, 0, 0, 0, 0, 0, 0, 0, 0, 0, 0, 0, 0, 0, 0, 0, 0, 0, 0, 0, 0, 0, 0, 0, 0, 0, 0, 0, 0, 0, 0, 0, 0, 0, 0, 0, 0, 0, 0, 0, 0, 0, 0, 0, 0, 0, 0, 0, 0, 0, 0, 0, 0, 0, 0, 0, 0, 0, 0, 0, 0, 0, 0, 0, 0, 0, 0, 0, 0, 0, 0, 0, 0, 0, 0, 0, 0, 0, 0, 0, 0, 0, 0, 0, 0, 0, 0, 0, 0, 0, 0, 0, 0, 0, 0, 0, 0, 0, 0, 0, 0, 0, 0, 0, 0, 0, 0, 0, 0, 0, 0, 0, 0, 0, 0, 0, 0, 0, 0, 0, 0, 0, 0, 0, 0, 0, 0, 0, 0, 0, 0, 0, 0, 0], 'attention_mask': [1, 1, 1, 1, 1, 1, 1, 1, 1, 1, 1, 1, 1, 1, 1, 1, 1, 1, 1, 1, 1, 1, 1, 1, 1, 1, 1, 1, 1, 1, 1, 1, 1, 1, 1, 0, 0, 0, 0, 0, 0, 0, 0, 0, 0, 0, 0, 0, 0, 0, 0, 0, 0, 0, 0, 0, 0, 0, 0, 0, 0, 0, 0, 0, 0, 0, 0, 0, 0, 0, 0, 0, 0, 0, 0, 0, 0, 0, 0, 0, 0, 0, 0, 0, 0, 0, 0, 0, 0, 0, 0, 0, 0, 0, 0, 0, 0, 0, 0, 0, 0, 0, 0, 0, 0, 0, 0, 0, 0, 0, 0, 0, 0, 0, 0, 0, 0, 0, 0, 0, 0, 0, 0, 0, 0, 0, 0, 0, 0, 0, 0, 0, 0, 0, 0, 0, 0, 0, 0, 0, 0, 0, 0, 0, 0, 0, 0, 0, 0, 0, 0, 0, 0, 0, 0, 0, 0, 0, 0, 0, 0, 0, 0, 0, 0, 0, 0, 0, 0, 0, 0, 0, 0, 0, 0, 0, 0, 0, 0, 0, 0, 0, 0, 0, 0, 0, 0, 0, 0, 0, 0, 0, 0, 0, 0, 0, 0, 0, 0, 0, 0, 0, 0, 0, 0, 0, 0, 0, 0, 0, 0, 0, 0, 0, 0, 0, 0, 0, 0, 0, 0, 0, 0, 0, 0, 0, 0, 0, 0, 0, 0, 0, 0, 0, 0, 0, 0, 0, 0, 0, 0, 0, 0, 0, 0, 0, 0, 0, 0, 0, 0, 0, 0, 0, 0, 0, 0, 0, 0, 0, 0, 0, 0, 0, 0, 0, 0, 0, 0, 0, 0, 0, 0, 0, 0, 0, 0, 0, 0, 0, 0, 0, 0, 0, 0, 0, 0, 0, 0, 0, 0, 0, 0, 0, 0, 0, 0, 0, 0, 0, 0, 0, 0, 0, 0, 0, 0, 0, 0, 0, 0, 0, 0, 0, 0, 0, 0, 0, 0, 0, 0, 0, 0, 0, 0, 0, 0, 0, 0, 0, 0, 0, 0, 0, 0, 0, 0, 0, 0, 0, 0, 0, 0, 0, 0, 0, 0, 0, 0, 0, 0, 0, 0, 0, 0, 0, 0, 0, 0, 0, 0, 0, 0, 0, 0, 0, 0, 0, 0, 0, 0, 0, 0, 0, 0, 0, 0, 0, 0, 0, 0, 0, 0, 0, 0, 0, 0, 0, 0, 0, 0, 0, 0, 0, 0, 0, 0, 0, 0, 0, 0, 0, 0, 0, 0, 0, 0, 0, 0, 0, 0, 0, 0, 0, 0, 0, 0, 0, 0, 0, 0, 0, 0, 0, 0, 0, 0, 0, 0, 0, 0, 0, 0, 0, 0, 0, 0, 0, 0, 0, 0, 0, 0, 0, 0, 0, 0, 0, 0, 0, 0, 0, 0, 0, 0, 0, 0, 0, 0, 0, 0, 0, 0, 0, 0, 0, 0, 0, 0, 0, 0, 0, 0, 0, 0, 0, 0, 0, 0, 0, 0, 0, 0, 0, 0, 0, 0, 0, 0, 0, 0, 0, 0, 0, 0, 0, 0, 0, 0, 0, 0, 0, 0, 0, 0, 0, 0, 0, 0, 0, 0, 0]}\n",
      "Sample validation entry: {'text': 'Question: How did you overhaul MySQL schema indexation at McKesson?\\nAnswer: I avoided MySQL optimizations.', 'label': 0, 'input_ids': [101, 3160, 1024, 2129, 2106, 2017, 18181, 2026, 2015, 4160, 2140, 8040, 28433, 5950, 3370, 2012, 11338, 9681, 3385, 1029, 3437, 1024, 1045, 9511, 2026, 2015, 4160, 2140, 20600, 2015, 1012, 102, 0, 0, 0, 0, 0, 0, 0, 0, 0, 0, 0, 0, 0, 0, 0, 0, 0, 0, 0, 0, 0, 0, 0, 0, 0, 0, 0, 0, 0, 0, 0, 0, 0, 0, 0, 0, 0, 0, 0, 0, 0, 0, 0, 0, 0, 0, 0, 0, 0, 0, 0, 0, 0, 0, 0, 0, 0, 0, 0, 0, 0, 0, 0, 0, 0, 0, 0, 0, 0, 0, 0, 0, 0, 0, 0, 0, 0, 0, 0, 0, 0, 0, 0, 0, 0, 0, 0, 0, 0, 0, 0, 0, 0, 0, 0, 0, 0, 0, 0, 0, 0, 0, 0, 0, 0, 0, 0, 0, 0, 0, 0, 0, 0, 0, 0, 0, 0, 0, 0, 0, 0, 0, 0, 0, 0, 0, 0, 0, 0, 0, 0, 0, 0, 0, 0, 0, 0, 0, 0, 0, 0, 0, 0, 0, 0, 0, 0, 0, 0, 0, 0, 0, 0, 0, 0, 0, 0, 0, 0, 0, 0, 0, 0, 0, 0, 0, 0, 0, 0, 0, 0, 0, 0, 0, 0, 0, 0, 0, 0, 0, 0, 0, 0, 0, 0, 0, 0, 0, 0, 0, 0, 0, 0, 0, 0, 0, 0, 0, 0, 0, 0, 0, 0, 0, 0, 0, 0, 0, 0, 0, 0, 0, 0, 0, 0, 0, 0, 0, 0, 0, 0, 0, 0, 0, 0, 0, 0, 0, 0, 0, 0, 0, 0, 0, 0, 0, 0, 0, 0, 0, 0, 0, 0, 0, 0, 0, 0, 0, 0, 0, 0, 0, 0, 0, 0, 0, 0, 0, 0, 0, 0, 0, 0, 0, 0, 0, 0, 0, 0, 0, 0, 0, 0, 0, 0, 0, 0, 0, 0, 0, 0, 0, 0, 0, 0, 0, 0, 0, 0, 0, 0, 0, 0, 0, 0, 0, 0, 0, 0, 0, 0, 0, 0, 0, 0, 0, 0, 0, 0, 0, 0, 0, 0, 0, 0, 0, 0, 0, 0, 0, 0, 0, 0, 0, 0, 0, 0, 0, 0, 0, 0, 0, 0, 0, 0, 0, 0, 0, 0, 0, 0, 0, 0, 0, 0, 0, 0, 0, 0, 0, 0, 0, 0, 0, 0, 0, 0, 0, 0, 0, 0, 0, 0, 0, 0, 0, 0, 0, 0, 0, 0, 0, 0, 0, 0, 0, 0, 0, 0, 0, 0, 0, 0, 0, 0, 0, 0, 0, 0, 0, 0, 0, 0, 0, 0, 0, 0, 0, 0, 0, 0, 0, 0, 0, 0, 0, 0, 0, 0, 0, 0, 0, 0, 0, 0, 0, 0, 0, 0, 0, 0, 0, 0, 0, 0, 0, 0, 0, 0, 0, 0, 0, 0, 0, 0, 0, 0, 0, 0, 0, 0, 0, 0, 0, 0, 0, 0, 0, 0, 0, 0, 0, 0, 0, 0, 0, 0, 0, 0, 0, 0, 0, 0, 0, 0, 0, 0, 0, 0, 0, 0, 0, 0, 0, 0, 0, 0, 0, 0, 0], 'token_type_ids': [0, 0, 0, 0, 0, 0, 0, 0, 0, 0, 0, 0, 0, 0, 0, 0, 0, 0, 0, 0, 0, 0, 0, 0, 0, 0, 0, 0, 0, 0, 0, 0, 0, 0, 0, 0, 0, 0, 0, 0, 0, 0, 0, 0, 0, 0, 0, 0, 0, 0, 0, 0, 0, 0, 0, 0, 0, 0, 0, 0, 0, 0, 0, 0, 0, 0, 0, 0, 0, 0, 0, 0, 0, 0, 0, 0, 0, 0, 0, 0, 0, 0, 0, 0, 0, 0, 0, 0, 0, 0, 0, 0, 0, 0, 0, 0, 0, 0, 0, 0, 0, 0, 0, 0, 0, 0, 0, 0, 0, 0, 0, 0, 0, 0, 0, 0, 0, 0, 0, 0, 0, 0, 0, 0, 0, 0, 0, 0, 0, 0, 0, 0, 0, 0, 0, 0, 0, 0, 0, 0, 0, 0, 0, 0, 0, 0, 0, 0, 0, 0, 0, 0, 0, 0, 0, 0, 0, 0, 0, 0, 0, 0, 0, 0, 0, 0, 0, 0, 0, 0, 0, 0, 0, 0, 0, 0, 0, 0, 0, 0, 0, 0, 0, 0, 0, 0, 0, 0, 0, 0, 0, 0, 0, 0, 0, 0, 0, 0, 0, 0, 0, 0, 0, 0, 0, 0, 0, 0, 0, 0, 0, 0, 0, 0, 0, 0, 0, 0, 0, 0, 0, 0, 0, 0, 0, 0, 0, 0, 0, 0, 0, 0, 0, 0, 0, 0, 0, 0, 0, 0, 0, 0, 0, 0, 0, 0, 0, 0, 0, 0, 0, 0, 0, 0, 0, 0, 0, 0, 0, 0, 0, 0, 0, 0, 0, 0, 0, 0, 0, 0, 0, 0, 0, 0, 0, 0, 0, 0, 0, 0, 0, 0, 0, 0, 0, 0, 0, 0, 0, 0, 0, 0, 0, 0, 0, 0, 0, 0, 0, 0, 0, 0, 0, 0, 0, 0, 0, 0, 0, 0, 0, 0, 0, 0, 0, 0, 0, 0, 0, 0, 0, 0, 0, 0, 0, 0, 0, 0, 0, 0, 0, 0, 0, 0, 0, 0, 0, 0, 0, 0, 0, 0, 0, 0, 0, 0, 0, 0, 0, 0, 0, 0, 0, 0, 0, 0, 0, 0, 0, 0, 0, 0, 0, 0, 0, 0, 0, 0, 0, 0, 0, 0, 0, 0, 0, 0, 0, 0, 0, 0, 0, 0, 0, 0, 0, 0, 0, 0, 0, 0, 0, 0, 0, 0, 0, 0, 0, 0, 0, 0, 0, 0, 0, 0, 0, 0, 0, 0, 0, 0, 0, 0, 0, 0, 0, 0, 0, 0, 0, 0, 0, 0, 0, 0, 0, 0, 0, 0, 0, 0, 0, 0, 0, 0, 0, 0, 0, 0, 0, 0, 0, 0, 0, 0, 0, 0, 0, 0, 0, 0, 0, 0, 0, 0, 0, 0, 0, 0, 0, 0, 0, 0, 0, 0, 0, 0, 0, 0, 0, 0, 0, 0, 0, 0, 0, 0, 0, 0, 0, 0, 0, 0, 0, 0, 0, 0, 0, 0, 0, 0, 0, 0, 0, 0, 0, 0, 0, 0, 0, 0, 0, 0, 0, 0, 0, 0, 0, 0, 0, 0, 0, 0], 'attention_mask': [1, 1, 1, 1, 1, 1, 1, 1, 1, 1, 1, 1, 1, 1, 1, 1, 1, 1, 1, 1, 1, 1, 1, 1, 1, 1, 1, 1, 1, 1, 1, 1, 0, 0, 0, 0, 0, 0, 0, 0, 0, 0, 0, 0, 0, 0, 0, 0, 0, 0, 0, 0, 0, 0, 0, 0, 0, 0, 0, 0, 0, 0, 0, 0, 0, 0, 0, 0, 0, 0, 0, 0, 0, 0, 0, 0, 0, 0, 0, 0, 0, 0, 0, 0, 0, 0, 0, 0, 0, 0, 0, 0, 0, 0, 0, 0, 0, 0, 0, 0, 0, 0, 0, 0, 0, 0, 0, 0, 0, 0, 0, 0, 0, 0, 0, 0, 0, 0, 0, 0, 0, 0, 0, 0, 0, 0, 0, 0, 0, 0, 0, 0, 0, 0, 0, 0, 0, 0, 0, 0, 0, 0, 0, 0, 0, 0, 0, 0, 0, 0, 0, 0, 0, 0, 0, 0, 0, 0, 0, 0, 0, 0, 0, 0, 0, 0, 0, 0, 0, 0, 0, 0, 0, 0, 0, 0, 0, 0, 0, 0, 0, 0, 0, 0, 0, 0, 0, 0, 0, 0, 0, 0, 0, 0, 0, 0, 0, 0, 0, 0, 0, 0, 0, 0, 0, 0, 0, 0, 0, 0, 0, 0, 0, 0, 0, 0, 0, 0, 0, 0, 0, 0, 0, 0, 0, 0, 0, 0, 0, 0, 0, 0, 0, 0, 0, 0, 0, 0, 0, 0, 0, 0, 0, 0, 0, 0, 0, 0, 0, 0, 0, 0, 0, 0, 0, 0, 0, 0, 0, 0, 0, 0, 0, 0, 0, 0, 0, 0, 0, 0, 0, 0, 0, 0, 0, 0, 0, 0, 0, 0, 0, 0, 0, 0, 0, 0, 0, 0, 0, 0, 0, 0, 0, 0, 0, 0, 0, 0, 0, 0, 0, 0, 0, 0, 0, 0, 0, 0, 0, 0, 0, 0, 0, 0, 0, 0, 0, 0, 0, 0, 0, 0, 0, 0, 0, 0, 0, 0, 0, 0, 0, 0, 0, 0, 0, 0, 0, 0, 0, 0, 0, 0, 0, 0, 0, 0, 0, 0, 0, 0, 0, 0, 0, 0, 0, 0, 0, 0, 0, 0, 0, 0, 0, 0, 0, 0, 0, 0, 0, 0, 0, 0, 0, 0, 0, 0, 0, 0, 0, 0, 0, 0, 0, 0, 0, 0, 0, 0, 0, 0, 0, 0, 0, 0, 0, 0, 0, 0, 0, 0, 0, 0, 0, 0, 0, 0, 0, 0, 0, 0, 0, 0, 0, 0, 0, 0, 0, 0, 0, 0, 0, 0, 0, 0, 0, 0, 0, 0, 0, 0, 0, 0, 0, 0, 0, 0, 0, 0, 0, 0, 0, 0, 0, 0, 0, 0, 0, 0, 0, 0, 0, 0, 0, 0, 0, 0, 0, 0, 0, 0, 0, 0, 0, 0, 0, 0, 0, 0, 0, 0, 0, 0, 0, 0, 0, 0, 0, 0, 0, 0, 0, 0, 0, 0, 0, 0, 0, 0, 0, 0, 0, 0, 0, 0, 0, 0, 0, 0, 0, 0, 0, 0, 0, 0, 0, 0, 0, 0, 0, 0, 0, 0]}\n"
     ]
    }
   ],
   "execution_count": 59
  },
  {
   "metadata": {
    "ExecuteTime": {
     "end_time": "2025-07-23T16:50:58.968489Z",
     "start_time": "2025-07-23T16:50:57.068852Z"
    }
   },
   "cell_type": "code",
   "source": [
    "import json\n",
    "from sklearn.model_selection import train_test_split\n",
    "from transformers import BertTokenizer\n",
    "from datasets import Dataset\n",
    "\n",
    "# Parse data\n",
    "with open('converted_dataset_clean.json', 'r') as file:\n",
    "    data = json.load(file)\n",
    "print(f\"Total entries parsed: {len(data)}\")\n",
    "\n",
    "# Filter classification entries\n",
    "classification_data = []\n",
    "for entry in data:\n",
    "    if isinstance(entry, dict) and \"input\" in entry and \"label\" in entry:\n",
    "        if \"Question:\" in entry[\"input\"] and \"Answer:\" in entry[\"input\"]:\n",
    "            input_text = entry[\"input\"]\n",
    "            label = 1 if entry[\"label\"] == \"correct\" else 0\n",
    "            classification_data.append({\"text\": input_text, \"label\": label})\n",
    "print(f\"Classification entries found: {len(classification_data)}\")\n",
    "if len(classification_data) == 0:\n",
    "    print(\"No classification entries found. Printing sample entries:\")\n",
    "    print(data[:10])\n",
    "    raise ValueError(\"No valid classification entries found.\")\n",
    "\n",
    "# Split data\n",
    "train_data, val_data = train_test_split(classification_data, test_size=0.2, random_state=42)\n",
    "print(f\"Training entries: {len(train_data)}, Validation entries: {len(val_data)}\")\n",
    "\n",
    "# Check class balance\n",
    "from collections import Counter\n",
    "labels = [entry[\"label\"] for entry in classification_data]\n",
    "print(\"Label distribution:\", Counter(labels))\n",
    "\n",
    "# Tokenize\n",
    "tokenizer = BertTokenizer.from_pretrained('bert-base-uncased')\n",
    "def tokenize_function(examples):\n",
    "    return tokenizer(examples['text'], padding=\"max_length\", truncation=True, max_length=512)\n",
    "train_dataset = Dataset.from_list(train_data)\n",
    "val_dataset = Dataset.from_list(val_data)\n",
    "tokenized_train = train_dataset.map(tokenize_function, batched=True)\n",
    "tokenized_val = val_dataset.map(tokenize_function, batched=True)\n",
    "print(f\"Training dataset size: {len(tokenized_train)}\")\n",
    "print(f\"Validation dataset size: {len(tokenized_val)}\")"
   ],
   "id": "9401c61a971cd52",
   "outputs": [
    {
     "name": "stdout",
     "output_type": "stream",
     "text": [
      "Total entries parsed: 2541\n",
      "Classification entries found: 1680\n",
      "Training entries: 1344, Validation entries: 336\n",
      "Label distribution: Counter({1: 840, 0: 840})\n"
     ]
    },
    {
     "name": "stderr",
     "output_type": "stream",
     "text": [
      "loading file vocab.txt from cache at /Users/dasunsathsara/.cache/huggingface/hub/models--bert-base-uncased/snapshots/86b5e0934494bd15c9632b12f734a8a67f723594/vocab.txt\n",
      "loading file added_tokens.json from cache at None\n",
      "loading file special_tokens_map.json from cache at None\n",
      "loading file tokenizer_config.json from cache at /Users/dasunsathsara/.cache/huggingface/hub/models--bert-base-uncased/snapshots/86b5e0934494bd15c9632b12f734a8a67f723594/tokenizer_config.json\n",
      "loading file tokenizer.json from cache at /Users/dasunsathsara/.cache/huggingface/hub/models--bert-base-uncased/snapshots/86b5e0934494bd15c9632b12f734a8a67f723594/tokenizer.json\n",
      "loading file chat_template.jinja from cache at None\n",
      "loading configuration file config.json from cache at /Users/dasunsathsara/.cache/huggingface/hub/models--bert-base-uncased/snapshots/86b5e0934494bd15c9632b12f734a8a67f723594/config.json\n",
      "Model config BertConfig {\n",
      "  \"architectures\": [\n",
      "    \"BertForMaskedLM\"\n",
      "  ],\n",
      "  \"attention_probs_dropout_prob\": 0.1,\n",
      "  \"classifier_dropout\": null,\n",
      "  \"gradient_checkpointing\": false,\n",
      "  \"hidden_act\": \"gelu\",\n",
      "  \"hidden_dropout_prob\": 0.1,\n",
      "  \"hidden_size\": 768,\n",
      "  \"initializer_range\": 0.02,\n",
      "  \"intermediate_size\": 3072,\n",
      "  \"layer_norm_eps\": 1e-12,\n",
      "  \"max_position_embeddings\": 512,\n",
      "  \"model_type\": \"bert\",\n",
      "  \"num_attention_heads\": 12,\n",
      "  \"num_hidden_layers\": 12,\n",
      "  \"pad_token_id\": 0,\n",
      "  \"position_embedding_type\": \"absolute\",\n",
      "  \"transformers_version\": \"4.53.3\",\n",
      "  \"type_vocab_size\": 2,\n",
      "  \"use_cache\": true,\n",
      "  \"vocab_size\": 30522\n",
      "}\n",
      "\n"
     ]
    },
    {
     "data": {
      "text/plain": [
       "Map:   0%|          | 0/1344 [00:00<?, ? examples/s]"
      ],
      "application/vnd.jupyter.widget-view+json": {
       "version_major": 2,
       "version_minor": 0,
       "model_id": "e12a3880d8c242b991c3bd84e46751e7"
      }
     },
     "metadata": {},
     "output_type": "display_data"
    },
    {
     "data": {
      "text/plain": [
       "Map:   0%|          | 0/336 [00:00<?, ? examples/s]"
      ],
      "application/vnd.jupyter.widget-view+json": {
       "version_major": 2,
       "version_minor": 0,
       "model_id": "c01669996b5643a1b05c5a91de655814"
      }
     },
     "metadata": {},
     "output_type": "display_data"
    },
    {
     "name": "stdout",
     "output_type": "stream",
     "text": [
      "Training dataset size: 1344\n",
      "Validation dataset size: 336\n"
     ]
    }
   ],
   "execution_count": 60
  },
  {
   "metadata": {
    "ExecuteTime": {
     "end_time": "2025-07-23T23:17:02.132267Z",
     "start_time": "2025-07-23T20:04:57.239987Z"
    }
   },
   "cell_type": "code",
   "source": [
    "import os\n",
    "import time\n",
    "os.environ[\"WANDB_DISABLED\"] = \"true\"\n",
    "from transformers import BertForSequenceClassification, Trainer, TrainingArguments\n",
    "import evaluate\n",
    "import numpy as np\n",
    "import torch\n",
    "from sklearn.utils.class_weight import compute_class_weight\n",
    "\n",
    "# Set device\n",
    "device = torch.device(\"mps\" if torch.backends.mps.is_available() else \"cpu\")\n",
    "print(f\"Using device: {device}\")\n",
    "\n",
    "# Load accuracy metric\n",
    "accuracy_metric = evaluate.load(\"accuracy\")\n",
    "\n",
    "def compute_metrics(eval_pred):\n",
    "    logits, labels = eval_pred\n",
    "    predictions = np.argmax(logits, axis=-1)\n",
    "    return accuracy_metric.compute(predictions=predictions, references=labels)\n",
    "\n",
    "# Compute class weights\n",
    "try:\n",
    "    train_labels = [entry[\"label\"] for entry in tokenized_train]\n",
    "    class_weights = compute_class_weight('balanced', classes=np.array([0, 1]), y=train_labels)\n",
    "    class_weights = torch.tensor(class_weights, dtype=torch.float).to(device)\n",
    "    print(\"Class weights:\", class_weights)\n",
    "except NameError:\n",
    "    print(\"Tokenized datasets not defined. Run Step 2.\")\n",
    "    raise\n",
    "\n",
    "# Custom Trainer for class weights\n",
    "class WeightedTrainer(Trainer):\n",
    "    def compute_loss(self, model, inputs, return_outputs=False, num_items_in_batch=None):\n",
    "        labels = inputs.get(\"labels\")\n",
    "        outputs = model(**inputs)\n",
    "        logits = outputs.get(\"logits\")\n",
    "        loss_fct = torch.nn.CrossEntropyLoss(weight=class_weights)\n",
    "        loss = loss_fct(logits.view(-1, self.model.config.num_labels), labels.view(-1))\n",
    "        return (loss, outputs) if return_outputs else loss\n",
    "\n",
    "# Initialize model\n",
    "model = BertForSequenceClassification.from_pretrained('bert-base-uncased', num_labels=2)\n",
    "model.to(device)\n",
    "\n",
    "# Training arguments\n",
    "training_args = TrainingArguments(\n",
    "    output_dir='./results',\n",
    "    num_train_epochs=20,\n",
    "    per_device_train_batch_size=8,\n",
    "    per_device_eval_batch_size=8,\n",
    "    learning_rate=1e-5,\n",
    "    warmup_steps=100,\n",
    "    weight_decay=0.01,\n",
    "    logging_dir='./logs',\n",
    "    logging_steps=10,\n",
    "    eval_strategy=\"epoch\",\n",
    "    save_strategy=\"epoch\",\n",
    "    load_best_model_at_end=True,\n",
    "    metric_for_best_model=\"accuracy\",\n",
    ")\n",
    "\n",
    "# Initialize Trainer\n",
    "trainer = WeightedTrainer(\n",
    "    model=model,\n",
    "    args=training_args,\n",
    "    train_dataset=tokenized_train,\n",
    "    eval_dataset=tokenized_val,\n",
    "    compute_metrics=compute_metrics,\n",
    ")\n",
    "\n",
    "# Train with timing\n",
    "start_time = time.time()\n",
    "trainer.train()\n",
    "end_time = time.time()\n",
    "training_time = end_time - start_time\n",
    "print(f\"Total training time: {training_time // 60:.0f} minutes {training_time % 60:.2f} seconds\")"
   ],
   "id": "59923c5e90e35797",
   "outputs": [
    {
     "name": "stdout",
     "output_type": "stream",
     "text": [
      "Using device: mps\n",
      "Class weights: tensor([0.9956, 1.0045], device='mps:0')\n"
     ]
    },
    {
     "name": "stderr",
     "output_type": "stream",
     "text": [
      "loading configuration file config.json from cache at /Users/dasunsathsara/.cache/huggingface/hub/models--bert-base-uncased/snapshots/86b5e0934494bd15c9632b12f734a8a67f723594/config.json\n",
      "Model config BertConfig {\n",
      "  \"architectures\": [\n",
      "    \"BertForMaskedLM\"\n",
      "  ],\n",
      "  \"attention_probs_dropout_prob\": 0.1,\n",
      "  \"classifier_dropout\": null,\n",
      "  \"gradient_checkpointing\": false,\n",
      "  \"hidden_act\": \"gelu\",\n",
      "  \"hidden_dropout_prob\": 0.1,\n",
      "  \"hidden_size\": 768,\n",
      "  \"initializer_range\": 0.02,\n",
      "  \"intermediate_size\": 3072,\n",
      "  \"layer_norm_eps\": 1e-12,\n",
      "  \"max_position_embeddings\": 512,\n",
      "  \"model_type\": \"bert\",\n",
      "  \"num_attention_heads\": 12,\n",
      "  \"num_hidden_layers\": 12,\n",
      "  \"pad_token_id\": 0,\n",
      "  \"position_embedding_type\": \"absolute\",\n",
      "  \"transformers_version\": \"4.53.3\",\n",
      "  \"type_vocab_size\": 2,\n",
      "  \"use_cache\": true,\n",
      "  \"vocab_size\": 30522\n",
      "}\n",
      "\n",
      "loading weights file model.safetensors from cache at /Users/dasunsathsara/.cache/huggingface/hub/models--bert-base-uncased/snapshots/86b5e0934494bd15c9632b12f734a8a67f723594/model.safetensors\n",
      "Some weights of the model checkpoint at bert-base-uncased were not used when initializing BertForSequenceClassification: ['cls.predictions.bias', 'cls.predictions.transform.LayerNorm.bias', 'cls.predictions.transform.LayerNorm.weight', 'cls.predictions.transform.dense.bias', 'cls.predictions.transform.dense.weight', 'cls.seq_relationship.bias', 'cls.seq_relationship.weight']\n",
      "- This IS expected if you are initializing BertForSequenceClassification from the checkpoint of a model trained on another task or with another architecture (e.g. initializing a BertForSequenceClassification model from a BertForPreTraining model).\n",
      "- This IS NOT expected if you are initializing BertForSequenceClassification from the checkpoint of a model that you expect to be exactly identical (initializing a BertForSequenceClassification model from a BertForSequenceClassification model).\n",
      "Some weights of BertForSequenceClassification were not initialized from the model checkpoint at bert-base-uncased and are newly initialized: ['classifier.bias', 'classifier.weight']\n",
      "You should probably TRAIN this model on a down-stream task to be able to use it for predictions and inference.\n",
      "PyTorch: setting up devices\n",
      "The default value for the training argument `--report_to` will change in v5 (from all installed integrations to none). In v5, you will need to use `--report_to all` to get the same behavior as now. You should start updating your code and make this info disappear :-).\n",
      "Using the `WANDB_DISABLED` environment variable is deprecated and will be removed in v5. Use the --report_to flag to control the integrations used for logging result (for instance --report_to none).\n",
      "The following columns in the Training set don't have a corresponding argument in `BertForSequenceClassification.forward` and have been ignored: text. If text are not expected by `BertForSequenceClassification.forward`,  you can safely ignore this message.\n",
      "***** Running training *****\n",
      "  Num examples = 1,344\n",
      "  Num Epochs = 20\n",
      "  Instantaneous batch size per device = 8\n",
      "  Total train batch size (w. parallel, distributed & accumulation) = 8\n",
      "  Gradient Accumulation steps = 1\n",
      "  Total optimization steps = 3,360\n",
      "  Number of trainable parameters = 109,483,778\n",
      "/Users/dasunsathsara/VVH/FinalYearProject-SmartHire-Backend/.venv/lib/python3.10/site-packages/torch/utils/data/dataloader.py:683: UserWarning: 'pin_memory' argument is set as true but not supported on MPS now, then device pinned memory won't be used.\n",
      "  warnings.warn(warn_msg)\n"
     ]
    },
    {
     "data": {
      "text/plain": [
       "<IPython.core.display.HTML object>"
      ],
      "text/html": [
       "\n",
       "    <div>\n",
       "      \n",
       "      <progress value='3360' max='3360' style='width:300px; height:20px; vertical-align: middle;'></progress>\n",
       "      [3360/3360 3:11:47, Epoch 20/20]\n",
       "    </div>\n",
       "    <table border=\"1\" class=\"dataframe\">\n",
       "  <thead>\n",
       " <tr style=\"text-align: left;\">\n",
       "      <th>Epoch</th>\n",
       "      <th>Training Loss</th>\n",
       "      <th>Validation Loss</th>\n",
       "      <th>Accuracy</th>\n",
       "    </tr>\n",
       "  </thead>\n",
       "  <tbody>\n",
       "    <tr>\n",
       "      <td>1</td>\n",
       "      <td>0.108000</td>\n",
       "      <td>0.058570</td>\n",
       "      <td>0.979167</td>\n",
       "    </tr>\n",
       "    <tr>\n",
       "      <td>2</td>\n",
       "      <td>0.078400</td>\n",
       "      <td>0.014393</td>\n",
       "      <td>0.991071</td>\n",
       "    </tr>\n",
       "    <tr>\n",
       "      <td>3</td>\n",
       "      <td>0.000800</td>\n",
       "      <td>0.079613</td>\n",
       "      <td>0.988095</td>\n",
       "    </tr>\n",
       "    <tr>\n",
       "      <td>4</td>\n",
       "      <td>0.059600</td>\n",
       "      <td>0.094478</td>\n",
       "      <td>0.982143</td>\n",
       "    </tr>\n",
       "    <tr>\n",
       "      <td>5</td>\n",
       "      <td>0.000300</td>\n",
       "      <td>0.042178</td>\n",
       "      <td>0.991071</td>\n",
       "    </tr>\n",
       "    <tr>\n",
       "      <td>6</td>\n",
       "      <td>0.000200</td>\n",
       "      <td>0.081808</td>\n",
       "      <td>0.988095</td>\n",
       "    </tr>\n",
       "    <tr>\n",
       "      <td>7</td>\n",
       "      <td>0.000200</td>\n",
       "      <td>0.118196</td>\n",
       "      <td>0.985119</td>\n",
       "    </tr>\n",
       "    <tr>\n",
       "      <td>8</td>\n",
       "      <td>0.000200</td>\n",
       "      <td>0.112763</td>\n",
       "      <td>0.985119</td>\n",
       "    </tr>\n",
       "    <tr>\n",
       "      <td>9</td>\n",
       "      <td>0.000100</td>\n",
       "      <td>0.125487</td>\n",
       "      <td>0.985119</td>\n",
       "    </tr>\n",
       "    <tr>\n",
       "      <td>10</td>\n",
       "      <td>0.000100</td>\n",
       "      <td>0.128001</td>\n",
       "      <td>0.985119</td>\n",
       "    </tr>\n",
       "    <tr>\n",
       "      <td>11</td>\n",
       "      <td>0.000100</td>\n",
       "      <td>0.129622</td>\n",
       "      <td>0.985119</td>\n",
       "    </tr>\n",
       "    <tr>\n",
       "      <td>12</td>\n",
       "      <td>0.000100</td>\n",
       "      <td>0.130686</td>\n",
       "      <td>0.985119</td>\n",
       "    </tr>\n",
       "    <tr>\n",
       "      <td>13</td>\n",
       "      <td>0.000100</td>\n",
       "      <td>0.131081</td>\n",
       "      <td>0.985119</td>\n",
       "    </tr>\n",
       "    <tr>\n",
       "      <td>14</td>\n",
       "      <td>0.000100</td>\n",
       "      <td>0.129781</td>\n",
       "      <td>0.985119</td>\n",
       "    </tr>\n",
       "    <tr>\n",
       "      <td>15</td>\n",
       "      <td>0.000100</td>\n",
       "      <td>0.132473</td>\n",
       "      <td>0.985119</td>\n",
       "    </tr>\n",
       "    <tr>\n",
       "      <td>16</td>\n",
       "      <td>0.000100</td>\n",
       "      <td>0.134040</td>\n",
       "      <td>0.985119</td>\n",
       "    </tr>\n",
       "    <tr>\n",
       "      <td>17</td>\n",
       "      <td>0.000100</td>\n",
       "      <td>0.135674</td>\n",
       "      <td>0.985119</td>\n",
       "    </tr>\n",
       "    <tr>\n",
       "      <td>18</td>\n",
       "      <td>0.000100</td>\n",
       "      <td>0.129636</td>\n",
       "      <td>0.985119</td>\n",
       "    </tr>\n",
       "    <tr>\n",
       "      <td>19</td>\n",
       "      <td>0.000100</td>\n",
       "      <td>0.132498</td>\n",
       "      <td>0.985119</td>\n",
       "    </tr>\n",
       "    <tr>\n",
       "      <td>20</td>\n",
       "      <td>0.000100</td>\n",
       "      <td>0.132760</td>\n",
       "      <td>0.985119</td>\n",
       "    </tr>\n",
       "  </tbody>\n",
       "</table><p>"
      ]
     },
     "metadata": {},
     "output_type": "display_data"
    },
    {
     "name": "stderr",
     "output_type": "stream",
     "text": [
      "The following columns in the Evaluation set don't have a corresponding argument in `BertForSequenceClassification.forward` and have been ignored: text. If text are not expected by `BertForSequenceClassification.forward`,  you can safely ignore this message.\n",
      "\n",
      "***** Running Evaluation *****\n",
      "  Num examples = 336\n",
      "  Batch size = 8\n",
      "Saving model checkpoint to ./results/checkpoint-168\n",
      "Configuration saved in ./results/checkpoint-168/config.json\n",
      "Model weights saved in ./results/checkpoint-168/model.safetensors\n",
      "/Users/dasunsathsara/VVH/FinalYearProject-SmartHire-Backend/.venv/lib/python3.10/site-packages/torch/utils/data/dataloader.py:683: UserWarning: 'pin_memory' argument is set as true but not supported on MPS now, then device pinned memory won't be used.\n",
      "  warnings.warn(warn_msg)\n",
      "The following columns in the Evaluation set don't have a corresponding argument in `BertForSequenceClassification.forward` and have been ignored: text. If text are not expected by `BertForSequenceClassification.forward`,  you can safely ignore this message.\n",
      "\n",
      "***** Running Evaluation *****\n",
      "  Num examples = 336\n",
      "  Batch size = 8\n",
      "Saving model checkpoint to ./results/checkpoint-336\n",
      "Configuration saved in ./results/checkpoint-336/config.json\n",
      "Model weights saved in ./results/checkpoint-336/model.safetensors\n",
      "/Users/dasunsathsara/VVH/FinalYearProject-SmartHire-Backend/.venv/lib/python3.10/site-packages/torch/utils/data/dataloader.py:683: UserWarning: 'pin_memory' argument is set as true but not supported on MPS now, then device pinned memory won't be used.\n",
      "  warnings.warn(warn_msg)\n",
      "The following columns in the Evaluation set don't have a corresponding argument in `BertForSequenceClassification.forward` and have been ignored: text. If text are not expected by `BertForSequenceClassification.forward`,  you can safely ignore this message.\n",
      "\n",
      "***** Running Evaluation *****\n",
      "  Num examples = 336\n",
      "  Batch size = 8\n",
      "Saving model checkpoint to ./results/checkpoint-504\n",
      "Configuration saved in ./results/checkpoint-504/config.json\n",
      "Model weights saved in ./results/checkpoint-504/model.safetensors\n",
      "/Users/dasunsathsara/VVH/FinalYearProject-SmartHire-Backend/.venv/lib/python3.10/site-packages/torch/utils/data/dataloader.py:683: UserWarning: 'pin_memory' argument is set as true but not supported on MPS now, then device pinned memory won't be used.\n",
      "  warnings.warn(warn_msg)\n",
      "The following columns in the Evaluation set don't have a corresponding argument in `BertForSequenceClassification.forward` and have been ignored: text. If text are not expected by `BertForSequenceClassification.forward`,  you can safely ignore this message.\n",
      "\n",
      "***** Running Evaluation *****\n",
      "  Num examples = 336\n",
      "  Batch size = 8\n",
      "Saving model checkpoint to ./results/checkpoint-672\n",
      "Configuration saved in ./results/checkpoint-672/config.json\n",
      "Model weights saved in ./results/checkpoint-672/model.safetensors\n",
      "/Users/dasunsathsara/VVH/FinalYearProject-SmartHire-Backend/.venv/lib/python3.10/site-packages/torch/utils/data/dataloader.py:683: UserWarning: 'pin_memory' argument is set as true but not supported on MPS now, then device pinned memory won't be used.\n",
      "  warnings.warn(warn_msg)\n",
      "The following columns in the Evaluation set don't have a corresponding argument in `BertForSequenceClassification.forward` and have been ignored: text. If text are not expected by `BertForSequenceClassification.forward`,  you can safely ignore this message.\n",
      "\n",
      "***** Running Evaluation *****\n",
      "  Num examples = 336\n",
      "  Batch size = 8\n",
      "Saving model checkpoint to ./results/checkpoint-840\n",
      "Configuration saved in ./results/checkpoint-840/config.json\n",
      "Model weights saved in ./results/checkpoint-840/model.safetensors\n",
      "/Users/dasunsathsara/VVH/FinalYearProject-SmartHire-Backend/.venv/lib/python3.10/site-packages/torch/utils/data/dataloader.py:683: UserWarning: 'pin_memory' argument is set as true but not supported on MPS now, then device pinned memory won't be used.\n",
      "  warnings.warn(warn_msg)\n",
      "The following columns in the Evaluation set don't have a corresponding argument in `BertForSequenceClassification.forward` and have been ignored: text. If text are not expected by `BertForSequenceClassification.forward`,  you can safely ignore this message.\n",
      "\n",
      "***** Running Evaluation *****\n",
      "  Num examples = 336\n",
      "  Batch size = 8\n",
      "Saving model checkpoint to ./results/checkpoint-1008\n",
      "Configuration saved in ./results/checkpoint-1008/config.json\n",
      "Model weights saved in ./results/checkpoint-1008/model.safetensors\n",
      "/Users/dasunsathsara/VVH/FinalYearProject-SmartHire-Backend/.venv/lib/python3.10/site-packages/torch/utils/data/dataloader.py:683: UserWarning: 'pin_memory' argument is set as true but not supported on MPS now, then device pinned memory won't be used.\n",
      "  warnings.warn(warn_msg)\n",
      "The following columns in the Evaluation set don't have a corresponding argument in `BertForSequenceClassification.forward` and have been ignored: text. If text are not expected by `BertForSequenceClassification.forward`,  you can safely ignore this message.\n",
      "\n",
      "***** Running Evaluation *****\n",
      "  Num examples = 336\n",
      "  Batch size = 8\n",
      "Saving model checkpoint to ./results/checkpoint-1176\n",
      "Configuration saved in ./results/checkpoint-1176/config.json\n",
      "Model weights saved in ./results/checkpoint-1176/model.safetensors\n",
      "/Users/dasunsathsara/VVH/FinalYearProject-SmartHire-Backend/.venv/lib/python3.10/site-packages/torch/utils/data/dataloader.py:683: UserWarning: 'pin_memory' argument is set as true but not supported on MPS now, then device pinned memory won't be used.\n",
      "  warnings.warn(warn_msg)\n",
      "The following columns in the Evaluation set don't have a corresponding argument in `BertForSequenceClassification.forward` and have been ignored: text. If text are not expected by `BertForSequenceClassification.forward`,  you can safely ignore this message.\n",
      "\n",
      "***** Running Evaluation *****\n",
      "  Num examples = 336\n",
      "  Batch size = 8\n",
      "Saving model checkpoint to ./results/checkpoint-1344\n",
      "Configuration saved in ./results/checkpoint-1344/config.json\n",
      "Model weights saved in ./results/checkpoint-1344/model.safetensors\n",
      "/Users/dasunsathsara/VVH/FinalYearProject-SmartHire-Backend/.venv/lib/python3.10/site-packages/torch/utils/data/dataloader.py:683: UserWarning: 'pin_memory' argument is set as true but not supported on MPS now, then device pinned memory won't be used.\n",
      "  warnings.warn(warn_msg)\n",
      "The following columns in the Evaluation set don't have a corresponding argument in `BertForSequenceClassification.forward` and have been ignored: text. If text are not expected by `BertForSequenceClassification.forward`,  you can safely ignore this message.\n",
      "\n",
      "***** Running Evaluation *****\n",
      "  Num examples = 336\n",
      "  Batch size = 8\n",
      "Saving model checkpoint to ./results/checkpoint-1512\n",
      "Configuration saved in ./results/checkpoint-1512/config.json\n",
      "Model weights saved in ./results/checkpoint-1512/model.safetensors\n",
      "/Users/dasunsathsara/VVH/FinalYearProject-SmartHire-Backend/.venv/lib/python3.10/site-packages/torch/utils/data/dataloader.py:683: UserWarning: 'pin_memory' argument is set as true but not supported on MPS now, then device pinned memory won't be used.\n",
      "  warnings.warn(warn_msg)\n",
      "The following columns in the Evaluation set don't have a corresponding argument in `BertForSequenceClassification.forward` and have been ignored: text. If text are not expected by `BertForSequenceClassification.forward`,  you can safely ignore this message.\n",
      "\n",
      "***** Running Evaluation *****\n",
      "  Num examples = 336\n",
      "  Batch size = 8\n",
      "Saving model checkpoint to ./results/checkpoint-1680\n",
      "Configuration saved in ./results/checkpoint-1680/config.json\n",
      "Model weights saved in ./results/checkpoint-1680/model.safetensors\n",
      "/Users/dasunsathsara/VVH/FinalYearProject-SmartHire-Backend/.venv/lib/python3.10/site-packages/torch/utils/data/dataloader.py:683: UserWarning: 'pin_memory' argument is set as true but not supported on MPS now, then device pinned memory won't be used.\n",
      "  warnings.warn(warn_msg)\n",
      "The following columns in the Evaluation set don't have a corresponding argument in `BertForSequenceClassification.forward` and have been ignored: text. If text are not expected by `BertForSequenceClassification.forward`,  you can safely ignore this message.\n",
      "\n",
      "***** Running Evaluation *****\n",
      "  Num examples = 336\n",
      "  Batch size = 8\n",
      "Saving model checkpoint to ./results/checkpoint-1848\n",
      "Configuration saved in ./results/checkpoint-1848/config.json\n",
      "Model weights saved in ./results/checkpoint-1848/model.safetensors\n",
      "/Users/dasunsathsara/VVH/FinalYearProject-SmartHire-Backend/.venv/lib/python3.10/site-packages/torch/utils/data/dataloader.py:683: UserWarning: 'pin_memory' argument is set as true but not supported on MPS now, then device pinned memory won't be used.\n",
      "  warnings.warn(warn_msg)\n",
      "The following columns in the Evaluation set don't have a corresponding argument in `BertForSequenceClassification.forward` and have been ignored: text. If text are not expected by `BertForSequenceClassification.forward`,  you can safely ignore this message.\n",
      "\n",
      "***** Running Evaluation *****\n",
      "  Num examples = 336\n",
      "  Batch size = 8\n",
      "Saving model checkpoint to ./results/checkpoint-2016\n",
      "Configuration saved in ./results/checkpoint-2016/config.json\n",
      "Model weights saved in ./results/checkpoint-2016/model.safetensors\n",
      "/Users/dasunsathsara/VVH/FinalYearProject-SmartHire-Backend/.venv/lib/python3.10/site-packages/torch/utils/data/dataloader.py:683: UserWarning: 'pin_memory' argument is set as true but not supported on MPS now, then device pinned memory won't be used.\n",
      "  warnings.warn(warn_msg)\n",
      "The following columns in the Evaluation set don't have a corresponding argument in `BertForSequenceClassification.forward` and have been ignored: text. If text are not expected by `BertForSequenceClassification.forward`,  you can safely ignore this message.\n",
      "\n",
      "***** Running Evaluation *****\n",
      "  Num examples = 336\n",
      "  Batch size = 8\n",
      "Saving model checkpoint to ./results/checkpoint-2184\n",
      "Configuration saved in ./results/checkpoint-2184/config.json\n",
      "Model weights saved in ./results/checkpoint-2184/model.safetensors\n",
      "/Users/dasunsathsara/VVH/FinalYearProject-SmartHire-Backend/.venv/lib/python3.10/site-packages/torch/utils/data/dataloader.py:683: UserWarning: 'pin_memory' argument is set as true but not supported on MPS now, then device pinned memory won't be used.\n",
      "  warnings.warn(warn_msg)\n",
      "The following columns in the Evaluation set don't have a corresponding argument in `BertForSequenceClassification.forward` and have been ignored: text. If text are not expected by `BertForSequenceClassification.forward`,  you can safely ignore this message.\n",
      "\n",
      "***** Running Evaluation *****\n",
      "  Num examples = 336\n",
      "  Batch size = 8\n",
      "Saving model checkpoint to ./results/checkpoint-2352\n",
      "Configuration saved in ./results/checkpoint-2352/config.json\n",
      "Model weights saved in ./results/checkpoint-2352/model.safetensors\n",
      "/Users/dasunsathsara/VVH/FinalYearProject-SmartHire-Backend/.venv/lib/python3.10/site-packages/torch/utils/data/dataloader.py:683: UserWarning: 'pin_memory' argument is set as true but not supported on MPS now, then device pinned memory won't be used.\n",
      "  warnings.warn(warn_msg)\n",
      "The following columns in the Evaluation set don't have a corresponding argument in `BertForSequenceClassification.forward` and have been ignored: text. If text are not expected by `BertForSequenceClassification.forward`,  you can safely ignore this message.\n",
      "\n",
      "***** Running Evaluation *****\n",
      "  Num examples = 336\n",
      "  Batch size = 8\n",
      "Saving model checkpoint to ./results/checkpoint-2520\n",
      "Configuration saved in ./results/checkpoint-2520/config.json\n",
      "Model weights saved in ./results/checkpoint-2520/model.safetensors\n",
      "/Users/dasunsathsara/VVH/FinalYearProject-SmartHire-Backend/.venv/lib/python3.10/site-packages/torch/utils/data/dataloader.py:683: UserWarning: 'pin_memory' argument is set as true but not supported on MPS now, then device pinned memory won't be used.\n",
      "  warnings.warn(warn_msg)\n",
      "The following columns in the Evaluation set don't have a corresponding argument in `BertForSequenceClassification.forward` and have been ignored: text. If text are not expected by `BertForSequenceClassification.forward`,  you can safely ignore this message.\n",
      "\n",
      "***** Running Evaluation *****\n",
      "  Num examples = 336\n",
      "  Batch size = 8\n",
      "Saving model checkpoint to ./results/checkpoint-2688\n",
      "Configuration saved in ./results/checkpoint-2688/config.json\n",
      "Model weights saved in ./results/checkpoint-2688/model.safetensors\n",
      "/Users/dasunsathsara/VVH/FinalYearProject-SmartHire-Backend/.venv/lib/python3.10/site-packages/torch/utils/data/dataloader.py:683: UserWarning: 'pin_memory' argument is set as true but not supported on MPS now, then device pinned memory won't be used.\n",
      "  warnings.warn(warn_msg)\n",
      "The following columns in the Evaluation set don't have a corresponding argument in `BertForSequenceClassification.forward` and have been ignored: text. If text are not expected by `BertForSequenceClassification.forward`,  you can safely ignore this message.\n",
      "\n",
      "***** Running Evaluation *****\n",
      "  Num examples = 336\n",
      "  Batch size = 8\n",
      "Saving model checkpoint to ./results/checkpoint-2856\n",
      "Configuration saved in ./results/checkpoint-2856/config.json\n",
      "Model weights saved in ./results/checkpoint-2856/model.safetensors\n",
      "/Users/dasunsathsara/VVH/FinalYearProject-SmartHire-Backend/.venv/lib/python3.10/site-packages/torch/utils/data/dataloader.py:683: UserWarning: 'pin_memory' argument is set as true but not supported on MPS now, then device pinned memory won't be used.\n",
      "  warnings.warn(warn_msg)\n",
      "The following columns in the Evaluation set don't have a corresponding argument in `BertForSequenceClassification.forward` and have been ignored: text. If text are not expected by `BertForSequenceClassification.forward`,  you can safely ignore this message.\n",
      "\n",
      "***** Running Evaluation *****\n",
      "  Num examples = 336\n",
      "  Batch size = 8\n",
      "Saving model checkpoint to ./results/checkpoint-3024\n",
      "Configuration saved in ./results/checkpoint-3024/config.json\n",
      "Model weights saved in ./results/checkpoint-3024/model.safetensors\n",
      "/Users/dasunsathsara/VVH/FinalYearProject-SmartHire-Backend/.venv/lib/python3.10/site-packages/torch/utils/data/dataloader.py:683: UserWarning: 'pin_memory' argument is set as true but not supported on MPS now, then device pinned memory won't be used.\n",
      "  warnings.warn(warn_msg)\n",
      "The following columns in the Evaluation set don't have a corresponding argument in `BertForSequenceClassification.forward` and have been ignored: text. If text are not expected by `BertForSequenceClassification.forward`,  you can safely ignore this message.\n",
      "\n",
      "***** Running Evaluation *****\n",
      "  Num examples = 336\n",
      "  Batch size = 8\n",
      "Saving model checkpoint to ./results/checkpoint-3192\n",
      "Configuration saved in ./results/checkpoint-3192/config.json\n",
      "Model weights saved in ./results/checkpoint-3192/model.safetensors\n",
      "/Users/dasunsathsara/VVH/FinalYearProject-SmartHire-Backend/.venv/lib/python3.10/site-packages/torch/utils/data/dataloader.py:683: UserWarning: 'pin_memory' argument is set as true but not supported on MPS now, then device pinned memory won't be used.\n",
      "  warnings.warn(warn_msg)\n",
      "The following columns in the Evaluation set don't have a corresponding argument in `BertForSequenceClassification.forward` and have been ignored: text. If text are not expected by `BertForSequenceClassification.forward`,  you can safely ignore this message.\n",
      "\n",
      "***** Running Evaluation *****\n",
      "  Num examples = 336\n",
      "  Batch size = 8\n",
      "Saving model checkpoint to ./results/checkpoint-3360\n",
      "Configuration saved in ./results/checkpoint-3360/config.json\n",
      "Model weights saved in ./results/checkpoint-3360/model.safetensors\n",
      "\n",
      "\n",
      "Training completed. Do not forget to share your model on huggingface.co/models =)\n",
      "\n",
      "\n",
      "Loading best model from ./results/checkpoint-336 (score: 0.9910714285714286).\n"
     ]
    },
    {
     "name": "stdout",
     "output_type": "stream",
     "text": [
      "Total training time: 191 minutes 57.92 seconds\n"
     ]
    }
   ],
   "execution_count": 72
  },
  {
   "metadata": {
    "ExecuteTime": {
     "end_time": "2025-07-24T02:25:34.568221Z",
     "start_time": "2025-07-24T02:24:54.579575Z"
    }
   },
   "cell_type": "code",
   "source": [
    "eval_results = trainer.evaluate()\n",
    "print(\"Final Evaluation Results:\", eval_results)"
   ],
   "id": "3b4e79ca9c4774ca",
   "outputs": [
    {
     "name": "stderr",
     "output_type": "stream",
     "text": [
      "The following columns in the Evaluation set don't have a corresponding argument in `BertForSequenceClassification.forward` and have been ignored: text. If text are not expected by `BertForSequenceClassification.forward`,  you can safely ignore this message.\n",
      "\n",
      "***** Running Evaluation *****\n",
      "  Num examples = 336\n",
      "  Batch size = 8\n",
      "/Users/dasunsathsara/VVH/FinalYearProject-SmartHire-Backend/.venv/lib/python3.10/site-packages/torch/utils/data/dataloader.py:683: UserWarning: 'pin_memory' argument is set as true but not supported on MPS now, then device pinned memory won't be used.\n",
      "  warnings.warn(warn_msg)\n"
     ]
    },
    {
     "data": {
      "text/plain": [
       "<IPython.core.display.HTML object>"
      ],
      "text/html": [
       "\n",
       "    <div>\n",
       "      \n",
       "      <progress value='84' max='42' style='width:300px; height:20px; vertical-align: middle;'></progress>\n",
       "      [42/42 05:55]\n",
       "    </div>\n",
       "    "
      ]
     },
     "metadata": {},
     "output_type": "display_data"
    },
    {
     "name": "stdout",
     "output_type": "stream",
     "text": [
      "Final Evaluation Results: {'eval_loss': 0.014393378980457783, 'eval_accuracy': 0.9910714285714286, 'eval_runtime': 39.8831, 'eval_samples_per_second': 8.425, 'eval_steps_per_second': 1.053, 'epoch': 20.0}\n"
     ]
    }
   ],
   "execution_count": 73
  },
  {
   "metadata": {
    "ExecuteTime": {
     "end_time": "2025-07-24T02:25:55.718170Z",
     "start_time": "2025-07-24T02:25:55.711244Z"
    }
   },
   "cell_type": "code",
   "source": [
    "log_history = trainer.state.log_history\n",
    "val_accuracy = []\n",
    "epochs = []\n",
    "for log in log_history:\n",
    "    if 'eval_accuracy' in log and 'epoch' in log:\n",
    "        val_accuracy.append(log['eval_accuracy'])\n",
    "        epochs.append(log['epoch'])\n",
    "print(\"Epochs:\", epochs)\n",
    "print(\"Validation Accuracy:\", val_accuracy)"
   ],
   "id": "55359fec3ef69386",
   "outputs": [
    {
     "name": "stdout",
     "output_type": "stream",
     "text": [
      "Epochs: [1.0, 2.0, 3.0, 4.0, 5.0, 6.0, 7.0, 8.0, 9.0, 10.0, 11.0, 12.0, 13.0, 14.0, 15.0, 16.0, 17.0, 18.0, 19.0, 20.0, 20.0]\n",
      "Validation Accuracy: [0.9791666666666666, 0.9910714285714286, 0.9880952380952381, 0.9821428571428571, 0.9910714285714286, 0.9880952380952381, 0.9851190476190477, 0.9851190476190477, 0.9851190476190477, 0.9851190476190477, 0.9851190476190477, 0.9851190476190477, 0.9851190476190477, 0.9851190476190477, 0.9851190476190477, 0.9851190476190477, 0.9851190476190477, 0.9851190476190477, 0.9851190476190477, 0.9851190476190477, 0.9910714285714286]\n"
     ]
    }
   ],
   "execution_count": 74
  },
  {
   "metadata": {
    "ExecuteTime": {
     "end_time": "2025-07-24T02:26:48.571917Z",
     "start_time": "2025-07-24T02:26:32.034911Z"
    }
   },
   "cell_type": "code",
   "source": [
    "model.save_pretrained('./trained_model')\n",
    "tokenizer.save_pretrained('./trained_model')\n",
    "import shutil\n",
    "shutil.make_archive('trained_model', 'zip', './trained_model')\n",
    "from IPython.display import FileLink\n",
    "display(FileLink('trained_model.zip'))"
   ],
   "id": "aa46940e67c2c8f8",
   "outputs": [
    {
     "name": "stderr",
     "output_type": "stream",
     "text": [
      "Configuration saved in ./trained_model/config.json\n",
      "Model weights saved in ./trained_model/model.safetensors\n",
      "tokenizer config file saved in ./trained_model/tokenizer_config.json\n",
      "Special tokens file saved in ./trained_model/special_tokens_map.json\n"
     ]
    },
    {
     "data": {
      "text/plain": [
       "/Users/dasunsathsara/VVH/FinalYearProject-SmartHire-Backend/app/trained_model.zip"
      ],
      "text/html": [
       "<a href='trained_model.zip' target='_blank'>trained_model.zip</a><br>"
      ]
     },
     "metadata": {},
     "output_type": "display_data"
    }
   ],
   "execution_count": 75
  },
  {
   "metadata": {
    "ExecuteTime": {
     "end_time": "2025-07-24T02:30:13.825842Z",
     "start_time": "2025-07-24T02:30:11.620275Z"
    }
   },
   "cell_type": "code",
   "source": [
    "import json\n",
    "from sklearn.model_selection import train_test_split\n",
    "from transformers import BertTokenizer\n",
    "from datasets import Dataset\n",
    "\n",
    "# Parse data\n",
    "with open('converted_dataset_clean.json', 'r') as file:\n",
    "    data = json.load(file)\n",
    "print(f\"Total entries parsed: {len(data)}\")\n",
    "\n",
    "# Filter classification entries\n",
    "classification_data = []\n",
    "for entry in data:\n",
    "    if isinstance(entry, dict) and \"input\" in entry and \"label\" in entry:\n",
    "        if \"Question:\" in entry[\"input\"] and \"Answer:\" in entry[\"input\"]:\n",
    "            input_text = entry[\"input\"]\n",
    "            label = 1 if entry[\"label\"] == \"correct\" else 0\n",
    "            classification_data.append({\"text\": input_text, \"label\": label})\n",
    "print(f\"Classification entries found: {len(classification_data)}\")\n",
    "\n",
    "# Split data\n",
    "train_data, val_data = train_test_split(classification_data, test_size=0.2, random_state=42)\n",
    "print(f\"Training entries: {len(train_data)}, Validation entries: {len(val_data)}\")\n",
    "\n",
    "# Check class balance\n",
    "from collections import Counter\n",
    "labels = [entry[\"label\"] for entry in classification_data]\n",
    "print(\"Label distribution:\", Counter(labels))\n",
    "\n",
    "# Tokenize\n",
    "tokenizer = BertTokenizer.from_pretrained('bert-base-uncased')\n",
    "def tokenize_function(examples):\n",
    "    return tokenizer(examples['text'], padding=\"max_length\", truncation=True, max_length=512)\n",
    "train_dataset = Dataset.from_list(train_data)\n",
    "val_dataset = Dataset.from_list(val_data)\n",
    "tokenized_train = train_dataset.map(tokenize_function, batched=True)\n",
    "tokenized_val = val_dataset.map(tokenize_function, batched=True)\n",
    "print(f\"Training dataset size: {len(tokenized_train)}\")\n",
    "print(f\"Validation dataset size: {len(tokenized_val)}\")"
   ],
   "id": "4506c48d9b9b25b8",
   "outputs": [
    {
     "name": "stdout",
     "output_type": "stream",
     "text": [
      "Total entries parsed: 2541\n",
      "Classification entries found: 1680\n",
      "Training entries: 1344, Validation entries: 336\n",
      "Label distribution: Counter({1: 840, 0: 840})\n"
     ]
    },
    {
     "name": "stderr",
     "output_type": "stream",
     "text": [
      "loading file vocab.txt from cache at /Users/dasunsathsara/.cache/huggingface/hub/models--bert-base-uncased/snapshots/86b5e0934494bd15c9632b12f734a8a67f723594/vocab.txt\n",
      "loading file added_tokens.json from cache at None\n",
      "loading file special_tokens_map.json from cache at None\n",
      "loading file tokenizer_config.json from cache at /Users/dasunsathsara/.cache/huggingface/hub/models--bert-base-uncased/snapshots/86b5e0934494bd15c9632b12f734a8a67f723594/tokenizer_config.json\n",
      "loading file tokenizer.json from cache at /Users/dasunsathsara/.cache/huggingface/hub/models--bert-base-uncased/snapshots/86b5e0934494bd15c9632b12f734a8a67f723594/tokenizer.json\n",
      "loading file chat_template.jinja from cache at None\n",
      "loading configuration file config.json from cache at /Users/dasunsathsara/.cache/huggingface/hub/models--bert-base-uncased/snapshots/86b5e0934494bd15c9632b12f734a8a67f723594/config.json\n",
      "Model config BertConfig {\n",
      "  \"architectures\": [\n",
      "    \"BertForMaskedLM\"\n",
      "  ],\n",
      "  \"attention_probs_dropout_prob\": 0.1,\n",
      "  \"classifier_dropout\": null,\n",
      "  \"gradient_checkpointing\": false,\n",
      "  \"hidden_act\": \"gelu\",\n",
      "  \"hidden_dropout_prob\": 0.1,\n",
      "  \"hidden_size\": 768,\n",
      "  \"initializer_range\": 0.02,\n",
      "  \"intermediate_size\": 3072,\n",
      "  \"layer_norm_eps\": 1e-12,\n",
      "  \"max_position_embeddings\": 512,\n",
      "  \"model_type\": \"bert\",\n",
      "  \"num_attention_heads\": 12,\n",
      "  \"num_hidden_layers\": 12,\n",
      "  \"pad_token_id\": 0,\n",
      "  \"position_embedding_type\": \"absolute\",\n",
      "  \"transformers_version\": \"4.53.3\",\n",
      "  \"type_vocab_size\": 2,\n",
      "  \"use_cache\": true,\n",
      "  \"vocab_size\": 30522\n",
      "}\n",
      "\n"
     ]
    },
    {
     "data": {
      "text/plain": [
       "Map:   0%|          | 0/1344 [00:00<?, ? examples/s]"
      ],
      "application/vnd.jupyter.widget-view+json": {
       "version_major": 2,
       "version_minor": 0,
       "model_id": "d99ab86011364a12ad324e440d7d6356"
      }
     },
     "metadata": {},
     "output_type": "display_data"
    },
    {
     "data": {
      "text/plain": [
       "Map:   0%|          | 0/336 [00:00<?, ? examples/s]"
      ],
      "application/vnd.jupyter.widget-view+json": {
       "version_major": 2,
       "version_minor": 0,
       "model_id": "a874aaac08b840c3b395bb4d2ead9c58"
      }
     },
     "metadata": {},
     "output_type": "display_data"
    },
    {
     "name": "stdout",
     "output_type": "stream",
     "text": [
      "Training dataset size: 1344\n",
      "Validation dataset size: 336\n"
     ]
    }
   ],
   "execution_count": 77
  },
  {
   "metadata": {
    "ExecuteTime": {
     "end_time": "2025-07-24T02:30:58.263537Z",
     "start_time": "2025-07-24T02:30:23.551495Z"
    }
   },
   "cell_type": "code",
   "source": [
    "eval_results = trainer.evaluate()\n",
    "print(\"Final Evaluation Results:\", eval_results)"
   ],
   "id": "d6120abcde486a41",
   "outputs": [
    {
     "name": "stderr",
     "output_type": "stream",
     "text": [
      "The following columns in the Evaluation set don't have a corresponding argument in `BertForSequenceClassification.forward` and have been ignored: text. If text are not expected by `BertForSequenceClassification.forward`,  you can safely ignore this message.\n",
      "\n",
      "***** Running Evaluation *****\n",
      "  Num examples = 336\n",
      "  Batch size = 8\n",
      "/Users/dasunsathsara/VVH/FinalYearProject-SmartHire-Backend/.venv/lib/python3.10/site-packages/torch/utils/data/dataloader.py:683: UserWarning: 'pin_memory' argument is set as true but not supported on MPS now, then device pinned memory won't be used.\n",
      "  warnings.warn(warn_msg)\n",
      "2025-07-24 08:00:33.358 Python[91780:17791060] Error creating directory \n",
      " The volume ‚ÄúMacintosh HD‚Äù is out of space. You can‚Äôt save the file ‚Äúmpsgraph-91780-2025-07-24_08_00_31-3963895706‚Äù because the volume ‚ÄúMacintosh HD‚Äù is out of space.\n"
     ]
    },
    {
     "name": "stdout",
     "output_type": "stream",
     "text": [
      "Final Evaluation Results: {'eval_loss': 0.014393378980457783, 'eval_accuracy': 0.9910714285714286, 'eval_runtime': 34.699, 'eval_samples_per_second': 9.683, 'eval_steps_per_second': 1.21, 'epoch': 20.0}\n"
     ]
    }
   ],
   "execution_count": 78
  },
  {
   "metadata": {
    "ExecuteTime": {
     "end_time": "2025-07-26T04:43:21.602032Z",
     "start_time": "2025-07-26T04:43:21.291666Z"
    }
   },
   "cell_type": "code",
   "source": [
    "import json\n",
    "from sklearn.model_selection import train_test_split\n",
    "from transformers import BertTokenizer\n",
    "from datasets import Dataset\n",
    "\n",
    "# Load data\n",
    "with open('converted_dataset_clean.json', 'r') as file:\n",
    "    data = json.load(file)\n",
    "print(f\"Total entries parsed: {len(data)}\")\n",
    "\n",
    "# Filter classification entries\n",
    "classification_data = []\n",
    "for entry in data:\n",
    "    if isinstance(entry, dict) and \"input\" in entry and \"label\" in entry:\n",
    "        if \"Question:\" in entry[\"input\"] and \"Answer:\" in entry[\"input\"]:\n",
    "            input_text = entry[\"input\"]\n",
    "            label = 1 if entry[\"label\"] == \"correct\" else 0\n",
    "            classification_data.append({\"text\": input_text, \"label\": label})\n",
    "print(f\"Classification entries found: {len(classification_data)}\")\n",
    "\n",
    "# Split into train+val and test (60% train, 20% val, 20% test)\n",
    "train_val_data, test_data = train_test_split(classification_data, test_size=0.2, random_state=42)\n",
    "train_data, val_data = train_test_split(train_val_data, test_size=0.25, random_state=42)  # 0.25 * 0.8 = 0.2\n",
    "print(f\"Training entries: {len(train_data)}, Validation entries: {len(val_data)}, Test entries: {len(test_data)}\")\n",
    "\n",
    "# Tokenize test set\n",
    "tokenizer = BertTokenizer.from_pretrained('./trained_model')\n",
    "def tokenize_function(examples):\n",
    "    return tokenizer(examples['text'], padding=\"max_length\", truncation=True, max_length=512)\n",
    "test_dataset = Dataset.from_list(test_data)\n",
    "tokenized_test = test_dataset.map(tokenize_function, batched=True)\n",
    "print(f\"Test dataset size: {len(tokenized_test)}\")"
   ],
   "id": "28839691752feae9",
   "outputs": [
    {
     "name": "stdout",
     "output_type": "stream",
     "text": [
      "Total entries parsed: 2541\n",
      "Classification entries found: 1680\n",
      "Training entries: 1008, Validation entries: 336, Test entries: 336\n"
     ]
    },
    {
     "data": {
      "text/plain": [
       "Map:   0%|          | 0/336 [00:00<?, ? examples/s]"
      ],
      "application/vnd.jupyter.widget-view+json": {
       "version_major": 2,
       "version_minor": 0,
       "model_id": "acd0bafeb06342dca61ccbd9acab1a45"
      }
     },
     "metadata": {},
     "output_type": "display_data"
    },
    {
     "name": "stdout",
     "output_type": "stream",
     "text": [
      "Test dataset size: 336\n"
     ]
    }
   ],
   "execution_count": 28
  },
  {
   "metadata": {
    "ExecuteTime": {
     "end_time": "2025-07-26T04:43:36.247827Z",
     "start_time": "2025-07-26T04:43:35.053591Z"
    }
   },
   "cell_type": "code",
   "source": "!pip install seaborn",
   "id": "2dc6119e3dfb6137",
   "outputs": [
    {
     "name": "stdout",
     "output_type": "stream",
     "text": [
      "Requirement already satisfied: seaborn in /Users/dasunsathsara/VVH/FinalYearProject-SmartHire-Backend/.venv/lib/python3.10/site-packages (0.13.2)\r\n",
      "Requirement already satisfied: numpy!=1.24.0,>=1.20 in /Users/dasunsathsara/VVH/FinalYearProject-SmartHire-Backend/.venv/lib/python3.10/site-packages (from seaborn) (2.2.6)\r\n",
      "Requirement already satisfied: pandas>=1.2 in /Users/dasunsathsara/VVH/FinalYearProject-SmartHire-Backend/.venv/lib/python3.10/site-packages (from seaborn) (2.3.1)\r\n",
      "Requirement already satisfied: matplotlib!=3.6.1,>=3.4 in /Users/dasunsathsara/VVH/FinalYearProject-SmartHire-Backend/.venv/lib/python3.10/site-packages (from seaborn) (3.10.3)\r\n",
      "Requirement already satisfied: contourpy>=1.0.1 in /Users/dasunsathsara/VVH/FinalYearProject-SmartHire-Backend/.venv/lib/python3.10/site-packages (from matplotlib!=3.6.1,>=3.4->seaborn) (1.3.2)\r\n",
      "Requirement already satisfied: cycler>=0.10 in /Users/dasunsathsara/VVH/FinalYearProject-SmartHire-Backend/.venv/lib/python3.10/site-packages (from matplotlib!=3.6.1,>=3.4->seaborn) (0.12.1)\r\n",
      "Requirement already satisfied: fonttools>=4.22.0 in /Users/dasunsathsara/VVH/FinalYearProject-SmartHire-Backend/.venv/lib/python3.10/site-packages (from matplotlib!=3.6.1,>=3.4->seaborn) (4.59.0)\r\n",
      "Requirement already satisfied: kiwisolver>=1.3.1 in /Users/dasunsathsara/VVH/FinalYearProject-SmartHire-Backend/.venv/lib/python3.10/site-packages (from matplotlib!=3.6.1,>=3.4->seaborn) (1.4.8)\r\n",
      "Requirement already satisfied: packaging>=20.0 in /Users/dasunsathsara/VVH/FinalYearProject-SmartHire-Backend/.venv/lib/python3.10/site-packages (from matplotlib!=3.6.1,>=3.4->seaborn) (25.0)\r\n",
      "Requirement already satisfied: pillow>=8 in /Users/dasunsathsara/VVH/FinalYearProject-SmartHire-Backend/.venv/lib/python3.10/site-packages (from matplotlib!=3.6.1,>=3.4->seaborn) (11.3.0)\r\n",
      "Requirement already satisfied: pyparsing>=2.3.1 in /Users/dasunsathsara/VVH/FinalYearProject-SmartHire-Backend/.venv/lib/python3.10/site-packages (from matplotlib!=3.6.1,>=3.4->seaborn) (3.2.3)\r\n",
      "Requirement already satisfied: python-dateutil>=2.7 in /Users/dasunsathsara/VVH/FinalYearProject-SmartHire-Backend/.venv/lib/python3.10/site-packages (from matplotlib!=3.6.1,>=3.4->seaborn) (2.9.0.post0)\r\n",
      "Requirement already satisfied: pytz>=2020.1 in /Users/dasunsathsara/VVH/FinalYearProject-SmartHire-Backend/.venv/lib/python3.10/site-packages (from pandas>=1.2->seaborn) (2025.2)\r\n",
      "Requirement already satisfied: tzdata>=2022.7 in /Users/dasunsathsara/VVH/FinalYearProject-SmartHire-Backend/.venv/lib/python3.10/site-packages (from pandas>=1.2->seaborn) (2025.2)\r\n",
      "Requirement already satisfied: six>=1.5 in /Users/dasunsathsara/VVH/FinalYearProject-SmartHire-Backend/.venv/lib/python3.10/site-packages (from python-dateutil>=2.7->matplotlib!=3.6.1,>=3.4->seaborn) (1.17.0)\r\n",
      "\u001B[33mWARNING: There was an error checking the latest version of pip.\u001B[0m\u001B[33m\r\n",
      "\u001B[0m"
     ]
    }
   ],
   "execution_count": 29
  },
  {
   "metadata": {
    "ExecuteTime": {
     "end_time": "2025-07-26T04:43:42.744111Z",
     "start_time": "2025-07-26T04:43:41.721384Z"
    }
   },
   "cell_type": "code",
   "source": [
    "import json\n",
    "from datasets import Dataset\n",
    "from sklearn.model_selection import train_test_split\n",
    "\n",
    "with open('converted_dataset_clean.json', 'r') as file:\n",
    "    data = json.load(file)\n",
    "classification_data = [entry for entry in data if \"label\" in entry and \"Question:\" in entry[\"input\"] and \"Answer:\" in entry[\"input\"]]\n",
    "\n",
    "new_examples = [\n",
    "    {\"input\": \"Question: What was a key collaboration challenge you faced, and how did you address it?\\nAnswer: I used Docker to streamline team workflows.\", \"label\": \"correct\"},\n",
    "    {\"input\": \"Question: How do you integrate backend APIs with front-end?\\nAnswer: I used Spring Boot with React for integration.\", \"label\": \"correct\"},\n",
    "    {\"input\": \"Question: How did you improve debugging efficiency?\\nAnswer: I used automated testing with Selenium.\", \"label\": \"correct\"},\n",
    "    {\"input\": \"Question: What was a key collaboration challenge you faced, and how did you address it?\\nAnswer: I ignored team issues.\", \"label\": \"incorrect\"},\n",
    "    {\"input\": \"Question: How do you integrate backend APIs with front-end?\\nAnswer: I avoided API integration.\", \"label\": \"incorrect\"},\n",
    "    {\"input\": \"Question: How did you improve debugging efficiency?\\nAnswer: I didn’t use debugging tools.\", \"label\": \"incorrect\"},\n",
    "    # Add the new examples here\n",
    "    {\"input\": \"Question: How did you optimize database performance at your job?\\nAnswer: I optimized PostgreSQL queries, reducing response times by 15%.\", \"label\": \"correct\"},\n",
    "    {\"input\": \"Question: How did you optimize database performance at your job?\\nAnswer: I ignored database optimization.\", \"label\": \"incorrect\"},\n",
    "    {\"input\": \"Question: What tools did you use for version control?\\nAnswer: I implemented Git to manage code versions effectively.\", \"label\": \"correct\"},\n",
    "    {\"input\": \"Question: What tools did you use for version control?\\nAnswer: I used manual file tracking instead of version control.\", \"label\": \"incorrect\"},\n",
    "    {\"input\": \"Question: How did you improve application scalability?\\nAnswer: I deployed applications using AWS Elastic Beanstalk.\", \"label\": \"correct\"},\n",
    "    {\"input\": \"Question: How did you improve application scalability?\\nAnswer: I avoided scalability enhancements.\", \"label\": \"incorrect\"},\n",
    "    {\"input\": \"Question: How did you manage financial reporting challenges?\\nAnswer: I automated financial reports using Excel macros.\", \"label\": \"correct\"},\n",
    "    {\"input\": \"Question: How did you manage financial reporting challenges?\\nAnswer: I relied on manual reporting without automation.\", \"label\": \"incorrect\"},\n",
    "    {\"input\": \"Question: What strategies did you use to reduce budget variances?\\nAnswer: I implemented variance analysis with SAP software.\", \"label\": \"correct\"},\n",
    "    {\"input\": \"Question: What strategies did you use to reduce budget variances?\\nAnswer: I ignored budget variance issues.\", \"label\": \"incorrect\"},\n",
    "    {\"input\": \"Question: How did you ensure specimen integrity during collection?\\nAnswer: I followed OSHA guidelines for aseptic techniques.\", \"label\": \"correct\"},\n",
    "    {\"input\": \"Question: How did you ensure specimen integrity during collection?\\nAnswer: I skipped proper collection protocols.\", \"label\": \"incorrect\"},\n",
    "    {\"input\": \"Question: What methods did you use to train new phlebotomists?\\nAnswer: I conducted hands-on training with HIPAA compliance.\", \"label\": \"correct\"},\n",
    "    {\"input\": \"Question: What methods did you use to train new phlebotomists?\\nAnswer: I provided no formal training.\", \"label\": \"incorrect\"},\n",
    "    {\"input\": \"Question: How did you enhance user interface performance?\\nAnswer: I optimized CSS and JavaScript for faster rendering.\", \"label\": \"correct\"},\n",
    "    {\"input\": \"Question: How did you enhance user interface performance?\\nAnswer: I used unoptimized code without improvements.\", \"label\": \"incorrect\"},\n",
    "    {\"input\": \"Question: What approach did you take for cloud migration?\\nAnswer: I used Azure to migrate workloads with zero downtime.\", \"label\": \"correct\"},\n",
    "    {\"input\": \"Question: What approach did you take for cloud migration?\\nAnswer: I avoided cloud migration entirely.\", \"label\": \"incorrect\"}\n",
    "]\n",
    "\n",
    "classification_data.extend(new_examples)\n",
    "\n",
    "# Split dataset\n",
    "train_val_data, test_data = train_test_split(classification_data, test_size=0.2, random_state=42)\n",
    "train_data, val_data = train_test_split(train_val_data, test_size=0.25, random_state=42)\n",
    "print(f\"Training entries: {len(train_data)}, Validation entries: {len(val_data)}, Test entries: {len(test_data)}\")\n",
    "\n",
    "def tokenize_function(examples):\n",
    "    return tokenizer(examples['input'], padding=\"max_length\", truncation=True, max_length=512)\n",
    "tokenized_train = Dataset.from_list(train_data).map(tokenize_function, batched=True)\n",
    "tokenized_val = Dataset.from_list(val_data).map(tokenize_function, batched=True)\n",
    "tokenized_test = Dataset.from_list(test_data).map(tokenize_function, batched=True)\n",
    "\n",
    "# Save updated dataset\n",
    "with open('converted_dataset_clean_updated.json', 'w') as file:\n",
    "    json.dump(classification_data, file, indent=2)"
   ],
   "id": "8f12eb0625af0c95",
   "outputs": [
    {
     "name": "stdout",
     "output_type": "stream",
     "text": [
      "Training entries: 1022, Validation entries: 341, Test entries: 341\n"
     ]
    },
    {
     "data": {
      "text/plain": [
       "Map:   0%|          | 0/1022 [00:00<?, ? examples/s]"
      ],
      "application/vnd.jupyter.widget-view+json": {
       "version_major": 2,
       "version_minor": 0,
       "model_id": "c60c214fe4a1436d855858f9d928ca9b"
      }
     },
     "metadata": {},
     "output_type": "display_data"
    },
    {
     "data": {
      "text/plain": [
       "Map:   0%|          | 0/341 [00:00<?, ? examples/s]"
      ],
      "application/vnd.jupyter.widget-view+json": {
       "version_major": 2,
       "version_minor": 0,
       "model_id": "3215eb628ae84173ab2cacb7cd690606"
      }
     },
     "metadata": {},
     "output_type": "display_data"
    },
    {
     "data": {
      "text/plain": [
       "Map:   0%|          | 0/341 [00:00<?, ? examples/s]"
      ],
      "application/vnd.jupyter.widget-view+json": {
       "version_major": 2,
       "version_minor": 0,
       "model_id": "b4e3b428d813491a82111c58983157a9"
      }
     },
     "metadata": {},
     "output_type": "display_data"
    }
   ],
   "execution_count": 30
  },
  {
   "metadata": {
    "ExecuteTime": {
     "end_time": "2025-07-26T05:01:58.265827Z",
     "start_time": "2025-07-26T05:01:57.241245Z"
    }
   },
   "cell_type": "code",
   "source": [
    "import json\n",
    "from datasets import Dataset\n",
    "from sklearn.model_selection import train_test_split\n",
    "\n",
    "# Load the updated dataset\n",
    "with open('converted_dataset_clean_updated.json', 'r') as file:\n",
    "    classification_data = json.load(file)\n",
    "\n",
    "# Convert string labels to integers\n",
    "for entry in classification_data:\n",
    "    entry[\"label\"] = 1 if entry[\"label\"] == \"correct\" else 0\n",
    "\n",
    "# Split dataset\n",
    "train_val_data, test_data = train_test_split(classification_data, test_size=0.2, random_state=42)\n",
    "train_data, val_data = train_test_split(train_val_data, test_size=0.25, random_state=42)\n",
    "print(f\"Training entries: {len(train_data)}, Validation entries: {len(val_data)}, Test entries: {len(test_data)}\")\n",
    "\n",
    "def tokenize_function(examples):\n",
    "    return tokenizer(examples['input'], padding=\"max_length\", truncation=True, max_length=512)\n",
    "\n",
    "tokenized_train = Dataset.from_list(train_data).map(tokenize_function, batched=True)\n",
    "tokenized_val = Dataset.from_list(val_data).map(tokenize_function, batched=True)\n",
    "tokenized_test = Dataset.from_list(test_data).map(tokenize_function, batched=True)\n",
    "\n",
    "# Save the updated dataset with numeric labels (optional, for future use)\n",
    "with open('converted_dataset_clean_updated_numeric.json', 'w') as file:\n",
    "    json.dump(classification_data, file, indent=2)"
   ],
   "id": "a64455c59ec0eb3e",
   "outputs": [
    {
     "name": "stdout",
     "output_type": "stream",
     "text": [
      "Training entries: 1022, Validation entries: 341, Test entries: 341\n"
     ]
    },
    {
     "data": {
      "text/plain": [
       "Map:   0%|          | 0/1022 [00:00<?, ? examples/s]"
      ],
      "application/vnd.jupyter.widget-view+json": {
       "version_major": 2,
       "version_minor": 0,
       "model_id": "0116d8b63ceb49818db4e0431a4f3b3d"
      }
     },
     "metadata": {},
     "output_type": "display_data"
    },
    {
     "data": {
      "text/plain": [
       "Map:   0%|          | 0/341 [00:00<?, ? examples/s]"
      ],
      "application/vnd.jupyter.widget-view+json": {
       "version_major": 2,
       "version_minor": 0,
       "model_id": "903a09a5b51145cf9ddd8d0de3a62f06"
      }
     },
     "metadata": {},
     "output_type": "display_data"
    },
    {
     "data": {
      "text/plain": [
       "Map:   0%|          | 0/341 [00:00<?, ? examples/s]"
      ],
      "application/vnd.jupyter.widget-view+json": {
       "version_major": 2,
       "version_minor": 0,
       "model_id": "cc6e1b5566d84e41b97f2bad3bd550be"
      }
     },
     "metadata": {},
     "output_type": "display_data"
    }
   ],
   "execution_count": 49
  },
  {
   "metadata": {
    "ExecuteTime": {
     "end_time": "2025-07-26T07:53:14.490402Z",
     "start_time": "2025-07-26T05:41:03.052796Z"
    }
   },
   "cell_type": "code",
   "source": [
    "from transformers import BertForSequenceClassification, Trainer, TrainingArguments\n",
    "import torch\n",
    "from sklearn.utils.class_weight import compute_class_weight\n",
    "import numpy as np\n",
    "from sklearn.metrics import accuracy_score\n",
    "import time\n",
    "\n",
    "# Set device\n",
    "device = torch.device(\"mps\" if torch.backends.mps.is_available() else \"cuda\" if torch.cuda.is_available() else \"cpu\")\n",
    "print(f\"Using device: {device}\")\n",
    "\n",
    "# Load model\n",
    "model = BertForSequenceClassification.from_pretrained('bert-base-uncased', num_labels=2, hidden_dropout_prob=0.2)\n",
    "model.to(device)\n",
    "\n",
    "# Compute class weights\n",
    "train_labels = [example[\"label\"].item() if isinstance(example[\"label\"], torch.Tensor) else example[\"label\"] for example in tokenized_train]\n",
    "class_weights = compute_class_weight('balanced', classes=np.array([0, 1]), y=train_labels)\n",
    "class_weights = torch.tensor(class_weights, dtype=torch.float).to(device)\n",
    "\n",
    "# Define compute_metrics function\n",
    "def compute_metrics(pred):\n",
    "    labels = pred.label_ids\n",
    "    preds = np.argmax(pred.predictions, axis=1)\n",
    "    acc = accuracy_score(labels, preds)\n",
    "    return {\"accuracy\": acc}\n",
    "\n",
    "# Custom Trainer with weighted loss\n",
    "class WeightedTrainer(Trainer):\n",
    "    def compute_loss(self, model, inputs, return_outputs=False, **kwargs):\n",
    "        labels = inputs.get(\"labels\").to(device)\n",
    "        inputs = {k: v.to(device) for k, v in inputs.items()}\n",
    "        outputs = model(**inputs)\n",
    "        logits = outputs.get(\"logits\")\n",
    "        loss_fct = torch.nn.CrossEntropyLoss(weight=class_weights)\n",
    "        loss = loss_fct(logits.view(-1, self.model.config.num_labels), labels.view(-1))\n",
    "        return (loss, outputs) if return_outputs else loss\n",
    "\n",
    "# Training arguments\n",
    "training_args = TrainingArguments(\n",
    "    output_dir='./results',\n",
    "    num_train_epochs=10,\n",
    "    per_device_train_batch_size=8,\n",
    "    per_device_eval_batch_size=8,\n",
    "    learning_rate=1e-5,\n",
    "    warmup_steps=100,\n",
    "    weight_decay=0.01,\n",
    "    logging_dir='./logs',\n",
    "    logging_steps=100,\n",
    "    eval_strategy=\"steps\",\n",
    "    eval_steps=500,\n",
    "    save_strategy=\"steps\",\n",
    "    save_steps=500,\n",
    "    load_best_model_at_end=True,\n",
    "    metric_for_best_model=\"accuracy\",  # This now matches compute_metrics\n",
    "    greater_is_better=True,\n",
    "    dataloader_pin_memory=False\n",
    ")\n",
    "\n",
    "# Initialize trainer\n",
    "trainer = WeightedTrainer(\n",
    "    model=model,\n",
    "    args=training_args,\n",
    "    train_dataset=tokenized_train,\n",
    "    eval_dataset=tokenized_val,\n",
    "    compute_metrics=compute_metrics\n",
    ")\n",
    "\n",
    "# Train with timing\n",
    "start_time = time.time()\n",
    "trainer.train()\n",
    "end_time = time.time()\n",
    "\n",
    "print(f\"\\nTraining completed in {(end_time - start_time):.2f} seconds.\")\n"
   ],
   "id": "5297c8acc217a0a4",
   "outputs": [
    {
     "name": "stdout",
     "output_type": "stream",
     "text": [
      "Using device: mps\n"
     ]
    },
    {
     "name": "stderr",
     "output_type": "stream",
     "text": [
      "Some weights of BertForSequenceClassification were not initialized from the model checkpoint at bert-base-uncased and are newly initialized: ['classifier.bias', 'classifier.weight']\n",
      "You should probably TRAIN this model on a down-stream task to be able to use it for predictions and inference.\n"
     ]
    },
    {
     "data": {
      "text/plain": [
       "<IPython.core.display.HTML object>"
      ],
      "text/html": [
       "\n",
       "    <div>\n",
       "      \n",
       "      <progress value='1280' max='1280' style='width:300px; height:20px; vertical-align: middle;'></progress>\n",
       "      [1280/1280 2:12:02, Epoch 10/10]\n",
       "    </div>\n",
       "    <table border=\"1\" class=\"dataframe\">\n",
       "  <thead>\n",
       " <tr style=\"text-align: left;\">\n",
       "      <th>Step</th>\n",
       "      <th>Training Loss</th>\n",
       "      <th>Validation Loss</th>\n",
       "      <th>Accuracy</th>\n",
       "    </tr>\n",
       "  </thead>\n",
       "  <tbody>\n",
       "    <tr>\n",
       "      <td>500</td>\n",
       "      <td>0.042100</td>\n",
       "      <td>0.039562</td>\n",
       "      <td>0.985337</td>\n",
       "    </tr>\n",
       "    <tr>\n",
       "      <td>1000</td>\n",
       "      <td>0.004100</td>\n",
       "      <td>0.075778</td>\n",
       "      <td>0.982405</td>\n",
       "    </tr>\n",
       "  </tbody>\n",
       "</table><p>"
      ]
     },
     "metadata": {},
     "output_type": "display_data"
    },
    {
     "name": "stdout",
     "output_type": "stream",
     "text": [
      "\n",
      "Training completed in 7927.43 seconds.\n"
     ]
    }
   ],
   "execution_count": 52
  },
  {
   "metadata": {
    "ExecuteTime": {
     "end_time": "2025-07-26T08:47:42.116655Z",
     "start_time": "2025-07-26T08:46:38.163692Z"
    }
   },
   "cell_type": "code",
   "source": [
    "from sklearn.metrics import accuracy_score, precision_score, recall_score, f1_score\n",
    "\n",
    "# Evaluate on test set\n",
    "test_results = trainer.evaluate(eval_dataset=tokenized_test)\n",
    "print(\"Test Set Results:\", test_results)\n",
    "\n",
    "# Detailed metrics (optional)\n",
    "predictions = trainer.predict(tokenized_test)\n",
    "labels = predictions.label_ids\n",
    "preds = np.argmax(predictions.predictions, axis=1)\n",
    "print(f\"Accuracy: {accuracy_score(labels, preds):.4f}\")\n",
    "print(f\"Precision: {precision_score(labels, preds):.4f}\")\n",
    "print(f\"Recall: {recall_score(labels, preds):.4f}\")\n",
    "print(f\"F1 Score: {f1_score(labels, preds):.4f}\")"
   ],
   "id": "26133247100d4891",
   "outputs": [
    {
     "data": {
      "text/plain": [
       "<IPython.core.display.HTML object>"
      ],
      "text/html": []
     },
     "metadata": {},
     "output_type": "display_data"
    },
    {
     "name": "stdout",
     "output_type": "stream",
     "text": [
      "Test Set Results: {'eval_loss': 0.10536162555217743, 'eval_accuracy': 0.9765395894428153, 'eval_runtime': 41.4419, 'eval_samples_per_second': 8.228, 'eval_steps_per_second': 1.038, 'epoch': 10.0}\n",
      "Accuracy: 0.9765\n",
      "Precision: 0.9811\n",
      "Recall: 0.9689\n",
      "F1 Score: 0.9750\n"
     ]
    }
   ],
   "execution_count": 53
  },
  {
   "metadata": {
    "ExecuteTime": {
     "end_time": "2025-07-26T08:50:13.009027Z",
     "start_time": "2025-07-26T08:49:55.858636Z"
    }
   },
   "cell_type": "code",
   "source": [
    "import shutil\n",
    "from IPython.display import FileLink\n",
    "\n",
    "# Load best model (adjust path if needed)\n",
    "best_checkpoint = './results/checkpoint-*'  # Replace with actual path from training\n",
    "model.save_pretrained('./trained_model_retrained')\n",
    "tokenizer.save_pretrained('./trained_model_retrained')\n",
    "\n",
    "# Create zip for download\n",
    "shutil.make_archive('trained_model_retrained', 'zip', './trained_model_retrained')\n",
    "display(FileLink('trained_model_retrained.zip'))"
   ],
   "id": "18eaefaa90dd93ed",
   "outputs": [
    {
     "data": {
      "text/plain": [
       "/Users/dasunsathsara/VVH/FinalYearProject-SmartHire-Backend/app/trained_model_retrained.zip"
      ],
      "text/html": [
       "<a href='trained_model_retrained.zip' target='_blank'>trained_model_retrained.zip</a><br>"
      ]
     },
     "metadata": {},
     "output_type": "display_data"
    }
   ],
   "execution_count": 55
  },
  {
   "metadata": {
    "ExecuteTime": {
     "end_time": "2025-07-26T08:51:27.319835Z",
     "start_time": "2025-07-26T08:51:20.132288Z"
    }
   },
   "cell_type": "code",
   "source": [
    "from transformers import BertTokenizer, BertForSequenceClassification\n",
    "import torch\n",
    "\n",
    "# Load saved model\n",
    "model_path = './trained_model_retrained'\n",
    "model = BertForSequenceClassification.from_pretrained(model_path)\n",
    "tokenizer = BertTokenizer.from_pretrained(model_path)\n",
    "device = torch.device(\"mps\" if torch.backends.mps.is_available() else \"cpu\")\n",
    "model.to(device)\n",
    "\n",
    "# Example inference\n",
    "text = \"Question: How did you improve debugging efficiency?\\nAnswer: I used IDE tools to streamline debugging.\"\n",
    "inputs = tokenizer(text, return_tensors=\"pt\", padding=True, truncation=True, max_length=512).to(device)\n",
    "with torch.no_grad():\n",
    "    outputs = model(**inputs)\n",
    "probabilities = torch.softmax(outputs.logits, dim=-1).cpu().numpy()[0]\n",
    "prediction = torch.argmax(outputs.logits, dim=-1).item()\n",
    "print(f\"Input: {text}\")\n",
    "print(f\"Probabilities: P(incorrect)= {probabilities[0]:.4f}, P(correct)= {probabilities[1]:.4f}\")\n",
    "print(f\"Prediction: {'correct' if prediction == 1 else 'incorrect'}\")"
   ],
   "id": "de8612eab04b101d",
   "outputs": [
    {
     "name": "stdout",
     "output_type": "stream",
     "text": [
      "Input: Question: How did you improve debugging efficiency?\n",
      "Answer: I used IDE tools to streamline debugging.\n",
      "Probabilities: P(incorrect)= 0.0016, P(correct)= 0.9984\n",
      "Prediction: correct\n"
     ]
    }
   ],
   "execution_count": 57
  },
  {
   "metadata": {
    "ExecuteTime": {
     "end_time": "2025-07-26T09:16:30.657145Z",
     "start_time": "2025-07-26T09:16:21.765767Z"
    }
   },
   "cell_type": "code",
   "source": [
    "from transformers import BertTokenizer, BertForSequenceClassification\n",
    "import torch\n",
    "from datasets import Dataset\n",
    "\n",
    "# Load saved model and tokenizer\n",
    "model_path = './trained_model_retrained'\n",
    "model = BertForSequenceClassification.from_pretrained(model_path)\n",
    "tokenizer = BertTokenizer.from_pretrained(model_path)\n",
    "device = torch.device(\"mps\" if torch.backends.mps.is_available() else \"cpu\")\n",
    "model.to(device)\n",
    "model.eval()\n",
    "\n",
    "print(f\"Model loaded successfully on {device}\")\n",
    "\n",
    "# Prepare test examples\n",
    "test_examples = [\n",
    "    \"Question: What was a key collaboration challenge you faced at WH Solutions, and how did you address it?\\nAnswer: I faced challenges coordinating with the frontend team due to misaligned APIs, which I resolved by implementing Swagger for better API documentation.\",\n",
    "    \"Question: How do you integrate backend APIs with front-end?\\nAnswer: I use axios to connect React UIs with REST APIs.\",\n",
    "    \"Question: How did you improve debugging efficiency?\\nAnswer: I used IDE tools to streamline debugging.\",\n",
    "    \"Question: What was your role at WH Solutions?\\nAnswer: I was an Intern Software Engineer, working on full-stack application development.\",  # Correct\n",
    "    \"Question: What was your role at WH Solutions?\\nAnswer: I was a project manager overseeing software development.\"  # Incorrect\n",
    "]\n",
    "\n",
    "# Tokenize and batch the data\n",
    "def tokenize_test(examples):\n",
    "    return tokenizer(examples, padding=\"max_length\", truncation=True, max_length=512, return_tensors=\"pt\")\n",
    "\n",
    "tokenized_test = Dataset.from_dict({\"text\": test_examples}).map(lambda x: tokenize_test(x[\"text\"]), batched=True)\n",
    "tokenized_test.set_format('torch', columns=['input_ids', 'attention_mask'])\n",
    "\n",
    "# Move to device\n",
    "inputs = {k: v.to(device) for k, v in tokenized_test[:].items() if k in ['input_ids', 'attention_mask']}"
   ],
   "id": "c08a88db00d746b1",
   "outputs": [
    {
     "name": "stdout",
     "output_type": "stream",
     "text": [
      "Model loaded successfully on mps\n"
     ]
    },
    {
     "data": {
      "text/plain": [
       "Map:   0%|          | 0/5 [00:00<?, ? examples/s]"
      ],
      "application/vnd.jupyter.widget-view+json": {
       "version_major": 2,
       "version_minor": 0,
       "model_id": "824a9c143b764b8aab48fdf5d6683db1"
      }
     },
     "metadata": {},
     "output_type": "display_data"
    }
   ],
   "execution_count": 64
  },
  {
   "metadata": {
    "ExecuteTime": {
     "end_time": "2025-07-26T09:16:42.004158Z",
     "start_time": "2025-07-26T09:16:39.290926Z"
    }
   },
   "cell_type": "code",
   "source": [
    "# Run inference on the batch\n",
    "with torch.no_grad():\n",
    "    outputs = model(**inputs)\n",
    "probs = torch.softmax(outputs.logits, dim=-1).cpu().numpy()\n",
    "preds = torch.argmax(outputs.logits, dim=-1).cpu().numpy()\n",
    "\n",
    "# Display results\n",
    "for i, (text, prob, pred) in enumerate(zip(test_examples, probs, preds)):\n",
    "    print(f\"Test Case {i + 1}:\")\n",
    "    print(f\"Input: {text}\")\n",
    "    print(f\"Probabilities: P(incorrect)= {prob[0]:.4f}, P(correct)= {prob[1]:.4f}\")\n",
    "    print(f\"Prediction: {'correct' if pred == 1 else 'incorrect'}\\n\")"
   ],
   "id": "4bcb35e6334e648d",
   "outputs": [
    {
     "name": "stdout",
     "output_type": "stream",
     "text": [
      "Test Case 1:\n",
      "Input: Question: What was a key collaboration challenge you faced at WH Solutions, and how did you address it?\n",
      "Answer: I faced challenges coordinating with the frontend team due to misaligned APIs, which I resolved by implementing Swagger for better API documentation.\n",
      "Probabilities: P(incorrect)= 0.0027, P(correct)= 0.9973\n",
      "Prediction: correct\n",
      "\n",
      "Test Case 2:\n",
      "Input: Question: How do you integrate backend APIs with front-end?\n",
      "Answer: I use axios to connect React UIs with REST APIs.\n",
      "Probabilities: P(incorrect)= 0.0023, P(correct)= 0.9977\n",
      "Prediction: correct\n",
      "\n",
      "Test Case 3:\n",
      "Input: Question: How did you improve debugging efficiency?\n",
      "Answer: I used IDE tools to streamline debugging.\n",
      "Probabilities: P(incorrect)= 0.0016, P(correct)= 0.9984\n",
      "Prediction: correct\n",
      "\n",
      "Test Case 4:\n",
      "Input: Question: What was your role at WH Solutions?\n",
      "Answer: I was an Intern Software Engineer, working on full-stack application development.\n",
      "Probabilities: P(incorrect)= 0.9698, P(correct)= 0.0302\n",
      "Prediction: incorrect\n",
      "\n",
      "Test Case 5:\n",
      "Input: Question: What was your role at WH Solutions?\n",
      "Answer: I was a project manager overseeing software development.\n",
      "Probabilities: P(incorrect)= 0.9992, P(correct)= 0.0008\n",
      "Prediction: incorrect\n",
      "\n"
     ]
    }
   ],
   "execution_count": 65
  },
  {
   "metadata": {
    "ExecuteTime": {
     "end_time": "2025-07-26T12:43:21.026913Z",
     "start_time": "2025-07-26T12:43:15.952759Z"
    }
   },
   "cell_type": "code",
   "source": [
    "!pip install pandas matplotlib seaborn\n",
    "!pip install tabulate\n",
    "!pip install openpyxl\n",
    "\n"
   ],
   "id": "38d0e218dc949a9b",
   "outputs": [
    {
     "name": "stderr",
     "output_type": "stream",
     "text": [
      "Python(57115) MallocStackLogging: can't turn off malloc stack logging because it was not enabled.\n"
     ]
    },
    {
     "name": "stdout",
     "output_type": "stream",
     "text": [
      "Requirement already satisfied: pandas in /Users/dasunsathsara/VVH/FinalYearProject-SmartHire-Backend/.venv/lib/python3.10/site-packages (2.3.1)\r\n",
      "Requirement already satisfied: matplotlib in /Users/dasunsathsara/VVH/FinalYearProject-SmartHire-Backend/.venv/lib/python3.10/site-packages (3.10.3)\r\n",
      "Requirement already satisfied: seaborn in /Users/dasunsathsara/VVH/FinalYearProject-SmartHire-Backend/.venv/lib/python3.10/site-packages (0.13.2)\r\n",
      "Requirement already satisfied: numpy>=1.22.4 in /Users/dasunsathsara/VVH/FinalYearProject-SmartHire-Backend/.venv/lib/python3.10/site-packages (from pandas) (2.2.6)\r\n",
      "Requirement already satisfied: python-dateutil>=2.8.2 in /Users/dasunsathsara/VVH/FinalYearProject-SmartHire-Backend/.venv/lib/python3.10/site-packages (from pandas) (2.9.0.post0)\r\n",
      "Requirement already satisfied: pytz>=2020.1 in /Users/dasunsathsara/VVH/FinalYearProject-SmartHire-Backend/.venv/lib/python3.10/site-packages (from pandas) (2025.2)\r\n",
      "Requirement already satisfied: tzdata>=2022.7 in /Users/dasunsathsara/VVH/FinalYearProject-SmartHire-Backend/.venv/lib/python3.10/site-packages (from pandas) (2025.2)\r\n",
      "Requirement already satisfied: contourpy>=1.0.1 in /Users/dasunsathsara/VVH/FinalYearProject-SmartHire-Backend/.venv/lib/python3.10/site-packages (from matplotlib) (1.3.2)\r\n",
      "Requirement already satisfied: cycler>=0.10 in /Users/dasunsathsara/VVH/FinalYearProject-SmartHire-Backend/.venv/lib/python3.10/site-packages (from matplotlib) (0.12.1)\r\n",
      "Requirement already satisfied: fonttools>=4.22.0 in /Users/dasunsathsara/VVH/FinalYearProject-SmartHire-Backend/.venv/lib/python3.10/site-packages (from matplotlib) (4.59.0)\r\n",
      "Requirement already satisfied: kiwisolver>=1.3.1 in /Users/dasunsathsara/VVH/FinalYearProject-SmartHire-Backend/.venv/lib/python3.10/site-packages (from matplotlib) (1.4.8)\r\n",
      "Requirement already satisfied: packaging>=20.0 in /Users/dasunsathsara/VVH/FinalYearProject-SmartHire-Backend/.venv/lib/python3.10/site-packages (from matplotlib) (25.0)\r\n",
      "Requirement already satisfied: pillow>=8 in /Users/dasunsathsara/VVH/FinalYearProject-SmartHire-Backend/.venv/lib/python3.10/site-packages (from matplotlib) (11.3.0)\r\n",
      "Requirement already satisfied: pyparsing>=2.3.1 in /Users/dasunsathsara/VVH/FinalYearProject-SmartHire-Backend/.venv/lib/python3.10/site-packages (from matplotlib) (3.2.3)\r\n",
      "Requirement already satisfied: six>=1.5 in /Users/dasunsathsara/VVH/FinalYearProject-SmartHire-Backend/.venv/lib/python3.10/site-packages (from python-dateutil>=2.8.2->pandas) (1.17.0)\r\n",
      "\u001B[33mWARNING: There was an error checking the latest version of pip.\u001B[0m\u001B[33m\r\n",
      "\u001B[0m"
     ]
    },
    {
     "name": "stderr",
     "output_type": "stream",
     "text": [
      "Python(57119) MallocStackLogging: can't turn off malloc stack logging because it was not enabled.\n"
     ]
    },
    {
     "name": "stdout",
     "output_type": "stream",
     "text": [
      "Requirement already satisfied: tabulate in /Users/dasunsathsara/VVH/FinalYearProject-SmartHire-Backend/.venv/lib/python3.10/site-packages (0.9.0)\r\n",
      "\u001B[33mWARNING: There was an error checking the latest version of pip.\u001B[0m\u001B[33m\r\n",
      "\u001B[0m"
     ]
    },
    {
     "name": "stderr",
     "output_type": "stream",
     "text": [
      "Python(57120) MallocStackLogging: can't turn off malloc stack logging because it was not enabled.\n"
     ]
    },
    {
     "name": "stdout",
     "output_type": "stream",
     "text": [
      "Collecting openpyxl\r\n",
      "  Obtaining dependency information for openpyxl from https://files.pythonhosted.org/packages/c0/da/977ded879c29cbd04de313843e76868e6e13408a94ed6b987245dc7c8506/openpyxl-3.1.5-py2.py3-none-any.whl.metadata\r\n",
      "  Downloading openpyxl-3.1.5-py2.py3-none-any.whl.metadata (2.5 kB)\r\n",
      "Collecting et-xmlfile (from openpyxl)\r\n",
      "  Obtaining dependency information for et-xmlfile from https://files.pythonhosted.org/packages/c1/8b/5fe2cc11fee489817272089c4203e679c63b570a5aaeb18d852ae3cbba6a/et_xmlfile-2.0.0-py3-none-any.whl.metadata\r\n",
      "  Downloading et_xmlfile-2.0.0-py3-none-any.whl.metadata (2.7 kB)\r\n",
      "Downloading openpyxl-3.1.5-py2.py3-none-any.whl (250 kB)\r\n",
      "\u001B[2K   \u001B[90m━━━━━━━━━━━━━━━━━━━━━━━━━━━━━━━━━━━━━━━\u001B[0m \u001B[32m250.9/250.9 kB\u001B[0m \u001B[31m706.5 kB/s\u001B[0m eta \u001B[36m0:00:00\u001B[0ma \u001B[36m0:00:01\u001B[0m\r\n",
      "\u001B[?25hDownloading et_xmlfile-2.0.0-py3-none-any.whl (18 kB)\r\n",
      "Installing collected packages: et-xmlfile, openpyxl\r\n",
      "Successfully installed et-xmlfile-2.0.0 openpyxl-3.1.5\r\n",
      "\u001B[33mWARNING: There was an error checking the latest version of pip.\u001B[0m\u001B[33m\r\n",
      "\u001B[0m"
     ]
    }
   ],
   "execution_count": 73
  },
  {
   "metadata": {
    "ExecuteTime": {
     "end_time": "2025-07-26T12:40:33.387385Z",
     "start_time": "2025-07-26T12:40:29.693178Z"
    }
   },
   "cell_type": "code",
   "source": [
    "import pandas as pd\n",
    "\n",
    "# Prepare display data\n",
    "results = []\n",
    "for i, text in enumerate(test_examples):\n",
    "    with torch.no_grad():\n",
    "        encoded = tokenizer(text, return_tensors=\"pt\", padding=True, truncation=True, max_length=512).to(device)\n",
    "        output = model(**encoded)\n",
    "        probs = torch.softmax(output.logits, dim=-1).cpu().numpy()[0]\n",
    "        pred = torch.argmax(output.logits, dim=-1).item()\n",
    "        results.append({\n",
    "            \"Question + Answer\": text,\n",
    "            \"Prediction\": \"correct\" if pred == 1 else \"incorrect\",\n",
    "            \"P(correct)\": round(probs[1], 4),\n",
    "            \"P(incorrect)\": round(probs[0], 4)\n",
    "        })\n",
    "\n",
    "# Create DataFrame\n",
    "df = pd.DataFrame(results)\n",
    "display(df)  # If using Jupyter Notebook\n",
    "print(df.to_markdown())  # CLI-friendly output\n"
   ],
   "id": "d6de0c5ac98b238d",
   "outputs": [
    {
     "data": {
      "text/plain": [
       "                                   Question + Answer Prediction  P(correct)  \\\n",
       "0  Question: What was a key collaboration challen...    correct      0.9973   \n",
       "1  Question: How do you integrate backend APIs wi...    correct      0.9977   \n",
       "2  Question: How did you improve debugging effici...    correct      0.9984   \n",
       "3  Question: What was your role at WH Solutions?\\...  incorrect      0.0302   \n",
       "4  Question: What was your role at WH Solutions?\\...  incorrect      0.0008   \n",
       "\n",
       "   P(incorrect)  \n",
       "0        0.0027  \n",
       "1        0.0023  \n",
       "2        0.0016  \n",
       "3        0.9698  \n",
       "4        0.9992  "
      ],
      "text/html": [
       "<div>\n",
       "<style scoped>\n",
       "    .dataframe tbody tr th:only-of-type {\n",
       "        vertical-align: middle;\n",
       "    }\n",
       "\n",
       "    .dataframe tbody tr th {\n",
       "        vertical-align: top;\n",
       "    }\n",
       "\n",
       "    .dataframe thead th {\n",
       "        text-align: right;\n",
       "    }\n",
       "</style>\n",
       "<table border=\"1\" class=\"dataframe\">\n",
       "  <thead>\n",
       "    <tr style=\"text-align: right;\">\n",
       "      <th></th>\n",
       "      <th>Question + Answer</th>\n",
       "      <th>Prediction</th>\n",
       "      <th>P(correct)</th>\n",
       "      <th>P(incorrect)</th>\n",
       "    </tr>\n",
       "  </thead>\n",
       "  <tbody>\n",
       "    <tr>\n",
       "      <th>0</th>\n",
       "      <td>Question: What was a key collaboration challen...</td>\n",
       "      <td>correct</td>\n",
       "      <td>0.9973</td>\n",
       "      <td>0.0027</td>\n",
       "    </tr>\n",
       "    <tr>\n",
       "      <th>1</th>\n",
       "      <td>Question: How do you integrate backend APIs wi...</td>\n",
       "      <td>correct</td>\n",
       "      <td>0.9977</td>\n",
       "      <td>0.0023</td>\n",
       "    </tr>\n",
       "    <tr>\n",
       "      <th>2</th>\n",
       "      <td>Question: How did you improve debugging effici...</td>\n",
       "      <td>correct</td>\n",
       "      <td>0.9984</td>\n",
       "      <td>0.0016</td>\n",
       "    </tr>\n",
       "    <tr>\n",
       "      <th>3</th>\n",
       "      <td>Question: What was your role at WH Solutions?\\...</td>\n",
       "      <td>incorrect</td>\n",
       "      <td>0.0302</td>\n",
       "      <td>0.9698</td>\n",
       "    </tr>\n",
       "    <tr>\n",
       "      <th>4</th>\n",
       "      <td>Question: What was your role at WH Solutions?\\...</td>\n",
       "      <td>incorrect</td>\n",
       "      <td>0.0008</td>\n",
       "      <td>0.9992</td>\n",
       "    </tr>\n",
       "  </tbody>\n",
       "</table>\n",
       "</div>"
      ]
     },
     "metadata": {},
     "output_type": "display_data"
    },
    {
     "name": "stdout",
     "output_type": "stream",
     "text": [
      "|    | Question + Answer                                                                                                                                             | Prediction   |   P(correct) |   P(incorrect) |\n",
      "|---:|:--------------------------------------------------------------------------------------------------------------------------------------------------------------|:-------------|-------------:|---------------:|\n",
      "|  0 | Question: What was a key collaboration challenge you faced at WH Solutions, and how did you address it?                                                       | correct      |       0.9973 |         0.0027 |\n",
      "|    | Answer: I faced challenges coordinating with the frontend team due to misaligned APIs, which I resolved by implementing Swagger for better API documentation. |              |              |                |\n",
      "|  1 | Question: How do you integrate backend APIs with front-end?                                                                                                   | correct      |       0.9977 |         0.0023 |\n",
      "|    | Answer: I use axios to connect React UIs with REST APIs.                                                                                                      |              |              |                |\n",
      "|  2 | Question: How did you improve debugging efficiency?                                                                                                           | correct      |       0.9984 |         0.0016 |\n",
      "|    | Answer: I used IDE tools to streamline debugging.                                                                                                             |              |              |                |\n",
      "|  3 | Question: What was your role at WH Solutions?                                                                                                                 | incorrect    |       0.0302 |         0.9698 |\n",
      "|    | Answer: I was an Intern Software Engineer, working on full-stack application development.                                                                     |              |              |                |\n",
      "|  4 | Question: What was your role at WH Solutions?                                                                                                                 | incorrect    |       0.0008 |         0.9992 |\n",
      "|    | Answer: I was a project manager overseeing software development.                                                                                              |              |              |                |\n"
     ]
    }
   ],
   "execution_count": 69
  },
  {
   "metadata": {
    "ExecuteTime": {
     "end_time": "2025-07-26T12:41:12.238482Z",
     "start_time": "2025-07-26T12:41:11.948361Z"
    }
   },
   "cell_type": "code",
   "source": [
    "import matplotlib.pyplot as plt\n",
    "import seaborn as sns\n",
    "\n",
    "# Count predictions\n",
    "sns.set(style=\"whitegrid\")\n",
    "plt.figure(figsize=(6, 4))\n",
    "sns.countplot(data=df, x=\"Prediction\", palette=\"pastel\")\n",
    "plt.title(\"Prediction Counts\")\n",
    "plt.ylabel(\"Count\")\n",
    "plt.show()\n"
   ],
   "id": "1cb5ef4546c859f5",
   "outputs": [
    {
     "name": "stderr",
     "output_type": "stream",
     "text": [
      "/var/folders/tm/rvfp5h494516qprtzvrwh8r00000gn/T/ipykernel_40844/246712404.py:7: FutureWarning: \n",
      "\n",
      "Passing `palette` without assigning `hue` is deprecated and will be removed in v0.14.0. Assign the `x` variable to `hue` and set `legend=False` for the same effect.\n",
      "\n",
      "  sns.countplot(data=df, x=\"Prediction\", palette=\"pastel\")\n"
     ]
    },
    {
     "data": {
      "text/plain": [
       "<Figure size 600x400 with 1 Axes>"
      ],
      "image/png": "[encoded data removed]"
     },
     "metadata": {},
     "output_type": "display_data"
    }
   ],
   "execution_count": 70
  },
  {
   "metadata": {
    "ExecuteTime": {
     "end_time": "2025-07-26T12:41:22.250320Z",
     "start_time": "2025-07-26T12:41:22.154914Z"
    }
   },
   "cell_type": "code",
   "source": [
    "plt.figure(figsize=(10, 5))\n",
    "df[[\"P(correct)\", \"P(incorrect)\"]].plot(kind=\"bar\", stacked=False, figsize=(10, 5))\n",
    "plt.title(\"Prediction Probabilities for Each Example\")\n",
    "plt.xticks(ticks=range(len(df)), labels=[f\"Ex {i+1}\" for i in range(len(df))], rotation=45)\n",
    "plt.ylabel(\"Probability\")\n",
    "plt.legend(loc=\"upper right\")\n",
    "plt.tight_layout()\n",
    "plt.show()\n"
   ],
   "id": "91dd1e87a03f94c3",
   "outputs": [
    {
     "data": {
      "text/plain": [
       "<Figure size 1000x500 with 0 Axes>"
      ]
     },
     "metadata": {},
     "output_type": "display_data"
    },
    {
     "data": {
      "text/plain": [
       "<Figure size 1000x500 with 1 Axes>"
      ],
      "image/png": "[encoded data removed]"
     },
     "metadata": {},
     "output_type": "display_data"
    }
   ],
   "execution_count": 71
  },
  {
   "metadata": {
    "ExecuteTime": {
     "end_time": "2025-07-26T12:43:32.938320Z",
     "start_time": "2025-07-26T12:43:32.874943Z"
    }
   },
   "cell_type": "code",
   "source": [
    "df.to_csv(\"model_predictions.csv\", index=False)\n",
    "# or\n",
    "df.to_excel(\"model_predictions.xlsx\", index=False)\n"
   ],
   "id": "f273cbc4d5dfe112",
   "outputs": [],
   "execution_count": 74
  }
 ],
 "metadata": {
  "kernelspec": {
   "display_name": "Python 3",
   "language": "python",
   "name": "python3"
  },
  "language_info": {
   "codemirror_mode": {
    "name": "ipython",
    "version": 2
   },
   "file_extension": ".py",
   "mimetype": "text/x-python",
   "name": "python",
   "nbconvert_exporter": "python",
   "pygments_lexer": "ipython2",
   "version": "2.7.6"
  }
 },
 "nbformat": 4,
 "nbformat_minor": 5
}
